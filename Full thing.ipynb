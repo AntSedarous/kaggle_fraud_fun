{
 "cells": [
  {
   "cell_type": "code",
   "execution_count": 154,
   "metadata": {},
   "outputs": [],
   "source": [
    "import pandas as pd\n",
    "import numpy as np\n",
    "import re\n",
    "from sklearn.cross_validation import train_test_split"
   ]
  },
  {
   "cell_type": "code",
   "execution_count": 2,
   "metadata": {},
   "outputs": [],
   "source": [
    "df = pd.read_csv('train_transaction.csv')"
   ]
  },
  {
   "cell_type": "code",
   "execution_count": 3,
   "metadata": {},
   "outputs": [],
   "source": [
    "df_id = pd.read_csv('train_identity.csv')"
   ]
  },
  {
   "cell_type": "code",
   "execution_count": 4,
   "metadata": {},
   "outputs": [],
   "source": [
    "df = pd.merge(df, df_id, how='left', on='TransactionID')"
   ]
  },
  {
   "cell_type": "code",
   "execution_count": 6,
   "metadata": {},
   "outputs": [],
   "source": [
    "df_dtypes = df.dtypes"
   ]
  },
  {
   "cell_type": "code",
   "execution_count": 15,
   "metadata": {},
   "outputs": [],
   "source": [
    "df_cols = df.columns"
   ]
  },
  {
   "cell_type": "code",
   "execution_count": 26,
   "metadata": {},
   "outputs": [],
   "source": [
    "df2 = df"
   ]
  },
  {
   "cell_type": "code",
   "execution_count": 102,
   "metadata": {},
   "outputs": [
    {
     "name": "stdout",
     "output_type": "stream",
     "text": [
      "ProductCD 5\n",
      "card4 4\n",
      "card6 4\n",
      "M1 2\n",
      "M2 2\n",
      "M3 2\n",
      "M4 3\n",
      "M5 2\n",
      "M6 2\n",
      "M7 2\n",
      "M8 2\n",
      "M9 2\n",
      "id_12 2\n",
      "id_15 3\n",
      "id_16 2\n",
      "id_23 3\n",
      "id_27 2\n",
      "id_28 2\n",
      "id_29 2\n",
      "id_34 4\n",
      "id_35 2\n",
      "id_36 2\n",
      "id_37 2\n",
      "id_38 2\n",
      "DeviceType 2\n"
     ]
    }
   ],
   "source": [
    "df2 = df\n",
    "for a,b in zip(df_dtypes, df_cols):\n",
    "    if a=='object':\n",
    "        cnt = len(df.groupby(b).TransactionID.count())\n",
    "        if cnt < 10:\n",
    "            print(b, cnt)\n",
    "            df2 = pd.concat([df2, pd.get_dummies(df[b], prefix='pre_'+b)], axis=1)\n",
    "    "
   ]
  },
  {
   "cell_type": "code",
   "execution_count": null,
   "metadata": {},
   "outputs": [],
   "source": [
    "for a in "
   ]
  },
  {
   "cell_type": "code",
   "execution_count": 103,
   "metadata": {},
   "outputs": [
    {
     "name": "stdout",
     "output_type": "stream",
     "text": [
      "P_emaildomain 59\n",
      "R_emaildomain 60\n",
      "id_30 75\n",
      "id_31 130\n",
      "id_33 260\n",
      "DeviceInfo 1786\n"
     ]
    }
   ],
   "source": [
    "\n",
    "for a,b in zip(df_dtypes, df_cols):\n",
    "    if a=='object':\n",
    "        cnt = len(df.groupby(b).TransactionID.count())\n",
    "        if cnt >= 10:\n",
    "            print(b, cnt)\n",
    "            \n",
    "    "
   ]
  },
  {
   "cell_type": "code",
   "execution_count": 55,
   "metadata": {},
   "outputs": [],
   "source": [
    "email_assignments = list(df.assign(email_domain2=df.P_emaildomain.apply(lambda x: str(x).split('.')[0]))  \\\n",
    "          .groupby('email_domain2').isFraud.agg([np.mean, len]).sort_values('len', ascending=False).query('len>1000').head(10).index)\n",
    "          "
   ]
  },
  {
   "cell_type": "code",
   "execution_count": 105,
   "metadata": {},
   "outputs": [],
   "source": [
    "df2['filtered_email'] = df2.P_emaildomain.apply(lambda x: str(x).split('.')[0])\n",
    "df2['filtered_email_R'] = df2.R_emaildomain.apply(lambda x: str(x).split('.')[0])"
   ]
  },
  {
   "cell_type": "code",
   "execution_count": 106,
   "metadata": {},
   "outputs": [],
   "source": [
    "for col in email_assignments:\n",
    "    df2['pre_p_email_'+col] = df2['filtered_email']==col"
   ]
  },
  {
   "cell_type": "code",
   "execution_count": 57,
   "metadata": {},
   "outputs": [],
   "source": [
    "email_assignments_R = list(df.assign(email_domain2=df.R_emaildomain.apply(lambda x: str(x).split('.')[0]))  \\\n",
    "          .groupby('email_domain2').isFraud.agg([np.mean, len]).sort_values('len', ascending=False).query('len>1000').head(10).index)\n",
    "          "
   ]
  },
  {
   "cell_type": "code",
   "execution_count": 145,
   "metadata": {},
   "outputs": [],
   "source": [
    "for col in email_assignments_R:\n",
    "    df2['pre_r_email_'+col] = (df2['filtered_email_R']==col).astype(int)"
   ]
  },
  {
   "cell_type": "code",
   "execution_count": 108,
   "metadata": {},
   "outputs": [],
   "source": [
    "df2 = df2.assign(OS=df2.id_30.apply(lambda x: str(x).split(' ')[0]))"
   ]
  },
  {
   "cell_type": "code",
   "execution_count": 109,
   "metadata": {},
   "outputs": [],
   "source": [
    "df2 = pd.concat([df2, pd.get_dummies(df2['OS'], prefix='pre_id30')], axis=1)"
   ]
  },
  {
   "cell_type": "code",
   "execution_count": 110,
   "metadata": {},
   "outputs": [],
   "source": [
    "df2 = df2.assign(clean_id31=df2.id_31.apply(lambda x: re.split('/| ', str(x))[0]))"
   ]
  },
  {
   "cell_type": "code",
   "execution_count": 114,
   "metadata": {},
   "outputs": [],
   "source": [
    "id31_cols = df2.groupby('clean_id31').isFraud.agg([np.mean, len]).query('len>1000').index"
   ]
  },
  {
   "cell_type": "code",
   "execution_count": 146,
   "metadata": {},
   "outputs": [],
   "source": [
    "for col in id31_cols:\n",
    "    df['pre_id31_'+col] = (df2['clean_id31']==col).astype(int)"
   ]
  },
  {
   "cell_type": "code",
   "execution_count": 130,
   "metadata": {},
   "outputs": [],
   "source": [
    "def getFromArray(arr, index):\n",
    "    try:\n",
    "        return(arr[index])\n",
    "    except:\n",
    "        return(np.nan)"
   ]
  },
  {
   "cell_type": "code",
   "execution_count": 131,
   "metadata": {},
   "outputs": [],
   "source": [
    "df2['pre_width']=df2['id_33'].apply(lambda x: np.float(str(x).split('x')[0]))\n",
    "df2['pre_height']=df2['id_33'].apply(lambda x: np.float(getFromArray(str(x).split('x'),1)))"
   ]
  },
  {
   "cell_type": "code",
   "execution_count": 142,
   "metadata": {},
   "outputs": [],
   "source": [
    "df2 = df2.assign(deviceCleaner = df2.DeviceInfo.apply(lambda x: re.split(':| | -', str(x))[0]))\n",
    "df2['deviceCleaner'] = ['SAMSUNG' if a[0:2]=='SM' else a for a in df2['deviceCleaner']]\n",
    "df2['deviceCleaner'] = ['LG' if a[0:2]=='LG' else a for a in df2['deviceCleaner']]"
   ]
  },
  {
   "cell_type": "code",
   "execution_count": 144,
   "metadata": {},
   "outputs": [],
   "source": [
    "devices = df2.groupby('deviceCleaner').isFraud.agg([len, np.mean]).filter('len>100').index"
   ]
  },
  {
   "cell_type": "code",
   "execution_count": 147,
   "metadata": {},
   "outputs": [],
   "source": [
    "for col in devices:\n",
    "    df2['pre_device_'+col] = (df2['deviceCleaner']==col).astype(int)"
   ]
  },
  {
   "cell_type": "code",
   "execution_count": 149,
   "metadata": {},
   "outputs": [
    {
     "data": {
      "text/html": [
       "<div>\n",
       "<style scoped>\n",
       "    .dataframe tbody tr th:only-of-type {\n",
       "        vertical-align: middle;\n",
       "    }\n",
       "\n",
       "    .dataframe tbody tr th {\n",
       "        vertical-align: top;\n",
       "    }\n",
       "\n",
       "    .dataframe thead th {\n",
       "        text-align: right;\n",
       "    }\n",
       "</style>\n",
       "<table border=\"1\" class=\"dataframe\">\n",
       "  <thead>\n",
       "    <tr style=\"text-align: right;\">\n",
       "      <th></th>\n",
       "      <th>len</th>\n",
       "      <th>mean</th>\n",
       "    </tr>\n",
       "    <tr>\n",
       "      <th>tng</th>\n",
       "      <th></th>\n",
       "      <th></th>\n",
       "    </tr>\n",
       "  </thead>\n",
       "  <tbody>\n",
       "    <tr>\n",
       "      <th>False</th>\n",
       "      <td>590488</td>\n",
       "      <td>0.034991</td>\n",
       "    </tr>\n",
       "    <tr>\n",
       "      <th>True</th>\n",
       "      <td>52</td>\n",
       "      <td>0.019231</td>\n",
       "    </tr>\n",
       "  </tbody>\n",
       "</table>\n",
       "</div>"
      ],
      "text/plain": [
       "          len      mean\n",
       "tng                    \n",
       "False  590488  0.034991\n",
       "True       52  0.019231"
      ]
     },
     "execution_count": 149,
     "metadata": {},
     "output_type": "execute_result"
    }
   ],
   "source": [
    "df2.assign(tng=df2.TransactionAmt==99).groupby('tng').isFraud.agg([len, np.mean])"
   ]
  },
  {
   "cell_type": "code",
   "execution_count": 150,
   "metadata": {},
   "outputs": [],
   "source": [
    "df2['is_transaction_hr'] = df2['TransactionDT'].apply(lambda x: ((x/60/60/24) - np.floor(x/60/60/24))*24)"
   ]
  },
  {
   "cell_type": "code",
   "execution_count": 151,
   "metadata": {},
   "outputs": [],
   "source": [
    "#Column Selection\n",
    "def colSelect(cols):\n",
    "    output = []\n",
    "    for col in cols:\n",
    "        if col in ['isFraud', 'DeviceType', 'DeviceInfo']:\n",
    "            output.append(False)\n",
    "        elif col[0]=='C':\n",
    "            output.append(True)\n",
    "        elif col[0]=='V':\n",
    "            output.append(True)\n",
    "        elif col[0]=='D':\n",
    "            output.append(True)\n",
    "        elif col in ['has_r', 'different_r', 'dist1', 'dist2', 'card1', 'card2', 'card3', 'card5', 'TransactionAmt']:\n",
    "            output.append(True)\n",
    "        elif col[0:2]=='is':\n",
    "            output.append(True)\n",
    "        elif col[0:3]=='pre':\n",
    "            output.append(True)\n",
    "        elif col[0:4]=='id_0':\n",
    "            output.append(True)\n",
    "        elif col[0:4] in ['id_10', 'id_11', 'id_13', 'id_14', 'id_17', 'id_18', 'id_19', 'id_20', 'id_21', 'id_22']:\n",
    "            output.append(True)\n",
    "        else:\n",
    "            output.append(False)\n",
    "    return(output)"
   ]
  },
  {
   "cell_type": "code",
   "execution_count": 152,
   "metadata": {},
   "outputs": [],
   "source": [
    "cols = df2.columns[colSelect(df2.columns)]"
   ]
  },
  {
   "cell_type": "code",
   "execution_count": 184,
   "metadata": {},
   "outputs": [
    {
     "data": {
      "text/plain": [
       "Index(['TransactionAmt', 'card1', 'card2', 'card3', 'card5', 'dist1', 'dist2',\n",
       "       'C1', 'C2', 'C3',\n",
       "       ...\n",
       "       'pre_device_verykoolS5524', 'pre_device_verykoolS5525',\n",
       "       'pre_device_verykoolS5530', 'pre_device_verykools4009',\n",
       "       'pre_device_verykools5004', 'pre_device_verykools5034',\n",
       "       'pre_device_verykools5035', 'pre_device_vivo',\n",
       "       'pre_device_xs-Z47b7VqTMxs', 'is_transaction_hr'],\n",
       "      dtype='object', length=1191)"
      ]
     },
     "execution_count": 184,
     "metadata": {},
     "output_type": "execute_result"
    }
   ],
   "source": []
  },
  {
   "cell_type": "code",
   "execution_count": 155,
   "metadata": {},
   "outputs": [],
   "source": [
    "X_train, X_test, y_train, y_test = train_test_split(df2[cols], df2['isFraud'], test_size=0.15, random_state=42)"
   ]
  },
  {
   "cell_type": "code",
   "execution_count": 156,
   "metadata": {},
   "outputs": [],
   "source": [
    "from xgboost import XGBClassifier"
   ]
  },
  {
   "cell_type": "code",
   "execution_count": 163,
   "metadata": {},
   "outputs": [],
   "source": [
    "from xgboost.sklearn import XGBClassifier"
   ]
  },
  {
   "cell_type": "code",
   "execution_count": 161,
   "metadata": {},
   "outputs": [],
   "source": [
    "xgb_dart = XGBClassifier(n_estimators=350,\n",
    "                        max_depth=8,\n",
    "                        subsample=.95,\n",
    "                        colsample_bytree=.9,\n",
    "                        reg_alpha=0,\n",
    "                        reg_lambda=1,\n",
    "                        booster='dart',\n",
    "                        rate_drop=.01)"
   ]
  },
  {
   "cell_type": "code",
   "execution_count": 164,
   "metadata": {},
   "outputs": [
    {
     "name": "stdout",
     "output_type": "stream",
     "text": [
      "[0]\tvalidation_0-auc:0.795146\tvalidation_1-auc:0.795319\n",
      "Multiple eval metrics have been passed: 'validation_1-auc' will be used for early stopping.\n",
      "\n",
      "Will train until validation_1-auc hasn't improved in 10 rounds.\n",
      "[1]\tvalidation_0-auc:0.819027\tvalidation_1-auc:0.821001\n",
      "[2]\tvalidation_0-auc:0.822043\tvalidation_1-auc:0.812099\n",
      "[3]\tvalidation_0-auc:0.823722\tvalidation_1-auc:0.82619\n",
      "[4]\tvalidation_0-auc:0.831243\tvalidation_1-auc:0.833098\n",
      "[5]\tvalidation_0-auc:0.852423\tvalidation_1-auc:0.856265\n",
      "[6]\tvalidation_0-auc:0.854204\tvalidation_1-auc:0.857189\n",
      "[7]\tvalidation_0-auc:0.855476\tvalidation_1-auc:0.858288\n",
      "[8]\tvalidation_0-auc:0.855836\tvalidation_1-auc:0.859102\n",
      "[9]\tvalidation_0-auc:0.863444\tvalidation_1-auc:0.867678\n",
      "[10]\tvalidation_0-auc:0.867938\tvalidation_1-auc:0.871201\n",
      "[11]\tvalidation_0-auc:0.87099\tvalidation_1-auc:0.874753\n",
      "[12]\tvalidation_0-auc:0.872598\tvalidation_1-auc:0.87547\n",
      "[13]\tvalidation_0-auc:0.87421\tvalidation_1-auc:0.876568\n",
      "[14]\tvalidation_0-auc:0.875173\tvalidation_1-auc:0.877308\n",
      "[15]\tvalidation_0-auc:0.875973\tvalidation_1-auc:0.877772\n",
      "[16]\tvalidation_0-auc:0.876919\tvalidation_1-auc:0.878322\n",
      "[17]\tvalidation_0-auc:0.87763\tvalidation_1-auc:0.878913\n",
      "[18]\tvalidation_0-auc:0.877972\tvalidation_1-auc:0.879675\n",
      "[19]\tvalidation_0-auc:0.878951\tvalidation_1-auc:0.880109\n",
      "[20]\tvalidation_0-auc:0.87986\tvalidation_1-auc:0.880912\n",
      "[21]\tvalidation_0-auc:0.886677\tvalidation_1-auc:0.88505\n",
      "[22]\tvalidation_0-auc:0.889101\tvalidation_1-auc:0.887087\n",
      "[23]\tvalidation_0-auc:0.891525\tvalidation_1-auc:0.88899\n",
      "[24]\tvalidation_0-auc:0.892785\tvalidation_1-auc:0.889523\n",
      "[25]\tvalidation_0-auc:0.89441\tvalidation_1-auc:0.89141\n",
      "[26]\tvalidation_0-auc:0.896198\tvalidation_1-auc:0.891533\n",
      "[27]\tvalidation_0-auc:0.898001\tvalidation_1-auc:0.893175\n",
      "[28]\tvalidation_0-auc:0.899722\tvalidation_1-auc:0.894277\n",
      "[29]\tvalidation_0-auc:0.902061\tvalidation_1-auc:0.896342\n",
      "[30]\tvalidation_0-auc:0.903168\tvalidation_1-auc:0.897571\n",
      "[31]\tvalidation_0-auc:0.905054\tvalidation_1-auc:0.899253\n",
      "[32]\tvalidation_0-auc:0.906542\tvalidation_1-auc:0.900182\n",
      "[33]\tvalidation_0-auc:0.907721\tvalidation_1-auc:0.901132\n",
      "[34]\tvalidation_0-auc:0.909967\tvalidation_1-auc:0.903318\n",
      "[35]\tvalidation_0-auc:0.912208\tvalidation_1-auc:0.904624\n",
      "[36]\tvalidation_0-auc:0.91365\tvalidation_1-auc:0.905404\n",
      "[37]\tvalidation_0-auc:0.915251\tvalidation_1-auc:0.906356\n",
      "[38]\tvalidation_0-auc:0.916362\tvalidation_1-auc:0.907426\n",
      "[39]\tvalidation_0-auc:0.917137\tvalidation_1-auc:0.90868\n",
      "[40]\tvalidation_0-auc:0.920025\tvalidation_1-auc:0.909378\n",
      "[41]\tvalidation_0-auc:0.921388\tvalidation_1-auc:0.911514\n",
      "[42]\tvalidation_0-auc:0.922777\tvalidation_1-auc:0.911968\n",
      "[43]\tvalidation_0-auc:0.924192\tvalidation_1-auc:0.912807\n",
      "[44]\tvalidation_0-auc:0.925525\tvalidation_1-auc:0.913558\n",
      "[45]\tvalidation_0-auc:0.926858\tvalidation_1-auc:0.914095\n",
      "[46]\tvalidation_0-auc:0.927578\tvalidation_1-auc:0.915423\n",
      "[47]\tvalidation_0-auc:0.928672\tvalidation_1-auc:0.91562\n",
      "[48]\tvalidation_0-auc:0.929873\tvalidation_1-auc:0.917154\n",
      "[49]\tvalidation_0-auc:0.930852\tvalidation_1-auc:0.918102\n",
      "[50]\tvalidation_0-auc:0.931006\tvalidation_1-auc:0.918012\n",
      "[51]\tvalidation_0-auc:0.933142\tvalidation_1-auc:0.920125\n",
      "[52]\tvalidation_0-auc:0.933399\tvalidation_1-auc:0.920422\n",
      "[53]\tvalidation_0-auc:0.933977\tvalidation_1-auc:0.920552\n",
      "[54]\tvalidation_0-auc:0.934683\tvalidation_1-auc:0.921923\n",
      "[55]\tvalidation_0-auc:0.935629\tvalidation_1-auc:0.922595\n",
      "[56]\tvalidation_0-auc:0.936733\tvalidation_1-auc:0.923607\n",
      "[57]\tvalidation_0-auc:0.937455\tvalidation_1-auc:0.924616\n",
      "[58]\tvalidation_0-auc:0.937952\tvalidation_1-auc:0.924929\n",
      "[59]\tvalidation_0-auc:0.939303\tvalidation_1-auc:0.926498\n",
      "[60]\tvalidation_0-auc:0.940021\tvalidation_1-auc:0.927295\n",
      "[61]\tvalidation_0-auc:0.940431\tvalidation_1-auc:0.927687\n",
      "[62]\tvalidation_0-auc:0.940683\tvalidation_1-auc:0.928334\n",
      "[63]\tvalidation_0-auc:0.941725\tvalidation_1-auc:0.928639\n",
      "[64]\tvalidation_0-auc:0.942746\tvalidation_1-auc:0.928984\n",
      "[65]\tvalidation_0-auc:0.943583\tvalidation_1-auc:0.930261\n",
      "[66]\tvalidation_0-auc:0.944128\tvalidation_1-auc:0.930478\n",
      "[67]\tvalidation_0-auc:0.944569\tvalidation_1-auc:0.930869\n",
      "[68]\tvalidation_0-auc:0.945856\tvalidation_1-auc:0.932048\n",
      "[69]\tvalidation_0-auc:0.945776\tvalidation_1-auc:0.93267\n",
      "[70]\tvalidation_0-auc:0.946217\tvalidation_1-auc:0.933311\n",
      "[71]\tvalidation_0-auc:0.947556\tvalidation_1-auc:0.933403\n",
      "[72]\tvalidation_0-auc:0.947944\tvalidation_1-auc:0.933546\n",
      "[73]\tvalidation_0-auc:0.948619\tvalidation_1-auc:0.934567\n",
      "[74]\tvalidation_0-auc:0.948278\tvalidation_1-auc:0.934749\n",
      "[75]\tvalidation_0-auc:0.949531\tvalidation_1-auc:0.935078\n",
      "[76]\tvalidation_0-auc:0.949553\tvalidation_1-auc:0.935467\n",
      "[77]\tvalidation_0-auc:0.949787\tvalidation_1-auc:0.935645\n",
      "[78]\tvalidation_0-auc:0.950053\tvalidation_1-auc:0.936094\n",
      "[79]\tvalidation_0-auc:0.950731\tvalidation_1-auc:0.936578\n",
      "[80]\tvalidation_0-auc:0.951059\tvalidation_1-auc:0.936933\n",
      "[81]\tvalidation_0-auc:0.95112\tvalidation_1-auc:0.937351\n",
      "[82]\tvalidation_0-auc:0.951383\tvalidation_1-auc:0.937165\n",
      "[83]\tvalidation_0-auc:0.952373\tvalidation_1-auc:0.938245\n",
      "[84]\tvalidation_0-auc:0.952817\tvalidation_1-auc:0.938411\n",
      "[85]\tvalidation_0-auc:0.952899\tvalidation_1-auc:0.938584\n",
      "[86]\tvalidation_0-auc:0.953565\tvalidation_1-auc:0.938861\n",
      "[87]\tvalidation_0-auc:0.953297\tvalidation_1-auc:0.93889\n",
      "[88]\tvalidation_0-auc:0.953144\tvalidation_1-auc:0.939891\n",
      "[89]\tvalidation_0-auc:0.954176\tvalidation_1-auc:0.939335\n",
      "[90]\tvalidation_0-auc:0.953789\tvalidation_1-auc:0.939753\n",
      "[91]\tvalidation_0-auc:0.954066\tvalidation_1-auc:0.939202\n",
      "[92]\tvalidation_0-auc:0.954927\tvalidation_1-auc:0.939704\n",
      "[93]\tvalidation_0-auc:0.953947\tvalidation_1-auc:0.93983\n",
      "[94]\tvalidation_0-auc:0.954377\tvalidation_1-auc:0.940453\n",
      "[95]\tvalidation_0-auc:0.955071\tvalidation_1-auc:0.940618\n",
      "[96]\tvalidation_0-auc:0.95579\tvalidation_1-auc:0.940953\n",
      "[97]\tvalidation_0-auc:0.955978\tvalidation_1-auc:0.940384\n",
      "[98]\tvalidation_0-auc:0.955926\tvalidation_1-auc:0.941497\n",
      "[99]\tvalidation_0-auc:0.956304\tvalidation_1-auc:0.941399\n",
      "[100]\tvalidation_0-auc:0.956245\tvalidation_1-auc:0.941386\n",
      "[101]\tvalidation_0-auc:0.956988\tvalidation_1-auc:0.942087\n",
      "[102]\tvalidation_0-auc:0.957033\tvalidation_1-auc:0.942171\n",
      "[103]\tvalidation_0-auc:0.957188\tvalidation_1-auc:0.942312\n",
      "[104]\tvalidation_0-auc:0.957571\tvalidation_1-auc:0.942499\n",
      "[105]\tvalidation_0-auc:0.957277\tvalidation_1-auc:0.94272\n",
      "[106]\tvalidation_0-auc:0.95763\tvalidation_1-auc:0.942624\n",
      "[107]\tvalidation_0-auc:0.957493\tvalidation_1-auc:0.942742\n",
      "[108]\tvalidation_0-auc:0.95821\tvalidation_1-auc:0.943086\n",
      "[109]\tvalidation_0-auc:0.958421\tvalidation_1-auc:0.943454\n",
      "[110]\tvalidation_0-auc:0.958073\tvalidation_1-auc:0.943318\n",
      "[111]\tvalidation_0-auc:0.95846\tvalidation_1-auc:0.942589\n",
      "[112]\tvalidation_0-auc:0.958461\tvalidation_1-auc:0.943566\n",
      "[113]\tvalidation_0-auc:0.958452\tvalidation_1-auc:0.94344\n",
      "[114]\tvalidation_0-auc:0.958496\tvalidation_1-auc:0.943353\n",
      "[115]\tvalidation_0-auc:0.958968\tvalidation_1-auc:0.943868\n",
      "[116]\tvalidation_0-auc:0.958989\tvalidation_1-auc:0.94359\n",
      "[117]\tvalidation_0-auc:0.959392\tvalidation_1-auc:0.94392\n",
      "[118]\tvalidation_0-auc:0.959309\tvalidation_1-auc:0.943362\n",
      "[119]\tvalidation_0-auc:0.959516\tvalidation_1-auc:0.944107\n",
      "[120]\tvalidation_0-auc:0.95981\tvalidation_1-auc:0.944174\n",
      "[121]\tvalidation_0-auc:0.959565\tvalidation_1-auc:0.944152\n",
      "[122]\tvalidation_0-auc:0.959603\tvalidation_1-auc:0.944255\n",
      "[123]\tvalidation_0-auc:0.960302\tvalidation_1-auc:0.944271\n",
      "[124]\tvalidation_0-auc:0.960171\tvalidation_1-auc:0.944988\n",
      "[125]\tvalidation_0-auc:0.959782\tvalidation_1-auc:0.944022\n",
      "[126]\tvalidation_0-auc:0.960335\tvalidation_1-auc:0.944421\n",
      "[127]\tvalidation_0-auc:0.960032\tvalidation_1-auc:0.944725\n",
      "[128]\tvalidation_0-auc:0.960196\tvalidation_1-auc:0.945283\n",
      "[129]\tvalidation_0-auc:0.960664\tvalidation_1-auc:0.944757\n",
      "[130]\tvalidation_0-auc:0.96051\tvalidation_1-auc:0.944866\n",
      "[131]\tvalidation_0-auc:0.961054\tvalidation_1-auc:0.94416\n",
      "[132]\tvalidation_0-auc:0.960533\tvalidation_1-auc:0.945127\n",
      "[133]\tvalidation_0-auc:0.960813\tvalidation_1-auc:0.94495\n",
      "[134]\tvalidation_0-auc:0.960766\tvalidation_1-auc:0.94501\n",
      "[135]\tvalidation_0-auc:0.961206\tvalidation_1-auc:0.945098\n",
      "[136]\tvalidation_0-auc:0.961167\tvalidation_1-auc:0.94518\n",
      "[137]\tvalidation_0-auc:0.961281\tvalidation_1-auc:0.944604\n",
      "[138]\tvalidation_0-auc:0.961556\tvalidation_1-auc:0.945507\n",
      "[139]\tvalidation_0-auc:0.961289\tvalidation_1-auc:0.945657\n",
      "[140]\tvalidation_0-auc:0.961734\tvalidation_1-auc:0.945008\n"
     ]
    },
    {
     "name": "stdout",
     "output_type": "stream",
     "text": [
      "[141]\tvalidation_0-auc:0.961806\tvalidation_1-auc:0.945608\n",
      "[142]\tvalidation_0-auc:0.96308\tvalidation_1-auc:0.946069\n",
      "[143]\tvalidation_0-auc:0.962179\tvalidation_1-auc:0.945594\n",
      "[144]\tvalidation_0-auc:0.962171\tvalidation_1-auc:0.945707\n",
      "[145]\tvalidation_0-auc:0.962449\tvalidation_1-auc:0.945835\n",
      "[146]\tvalidation_0-auc:0.962228\tvalidation_1-auc:0.946175\n",
      "[147]\tvalidation_0-auc:0.9625\tvalidation_1-auc:0.946013\n",
      "[148]\tvalidation_0-auc:0.962514\tvalidation_1-auc:0.946014\n",
      "[149]\tvalidation_0-auc:0.962443\tvalidation_1-auc:0.946207\n",
      "[150]\tvalidation_0-auc:0.963054\tvalidation_1-auc:0.946621\n",
      "[151]\tvalidation_0-auc:0.963445\tvalidation_1-auc:0.94674\n",
      "[152]\tvalidation_0-auc:0.963827\tvalidation_1-auc:0.946793\n",
      "[153]\tvalidation_0-auc:0.963465\tvalidation_1-auc:0.946606\n",
      "[154]\tvalidation_0-auc:0.963848\tvalidation_1-auc:0.947033\n",
      "[155]\tvalidation_0-auc:0.963833\tvalidation_1-auc:0.947151\n",
      "[156]\tvalidation_0-auc:0.963917\tvalidation_1-auc:0.947543\n",
      "[157]\tvalidation_0-auc:0.963941\tvalidation_1-auc:0.947436\n",
      "[158]\tvalidation_0-auc:0.963898\tvalidation_1-auc:0.947409\n",
      "[159]\tvalidation_0-auc:0.963829\tvalidation_1-auc:0.947851\n",
      "[160]\tvalidation_0-auc:0.964476\tvalidation_1-auc:0.947745\n",
      "[161]\tvalidation_0-auc:0.964905\tvalidation_1-auc:0.947954\n",
      "[162]\tvalidation_0-auc:0.964647\tvalidation_1-auc:0.948195\n",
      "[163]\tvalidation_0-auc:0.964663\tvalidation_1-auc:0.94769\n",
      "[164]\tvalidation_0-auc:0.964878\tvalidation_1-auc:0.948227\n",
      "[165]\tvalidation_0-auc:0.964847\tvalidation_1-auc:0.948257\n",
      "[166]\tvalidation_0-auc:0.965073\tvalidation_1-auc:0.948413\n",
      "[167]\tvalidation_0-auc:0.965042\tvalidation_1-auc:0.948416\n",
      "[168]\tvalidation_0-auc:0.965872\tvalidation_1-auc:0.948412\n",
      "[169]\tvalidation_0-auc:0.965502\tvalidation_1-auc:0.94869\n",
      "[170]\tvalidation_0-auc:0.965492\tvalidation_1-auc:0.948714\n",
      "[171]\tvalidation_0-auc:0.965193\tvalidation_1-auc:0.948695\n",
      "[172]\tvalidation_0-auc:0.965645\tvalidation_1-auc:0.9484\n",
      "[173]\tvalidation_0-auc:0.966108\tvalidation_1-auc:0.948677\n",
      "[174]\tvalidation_0-auc:0.965713\tvalidation_1-auc:0.949041\n",
      "[175]\tvalidation_0-auc:0.965715\tvalidation_1-auc:0.949166\n",
      "[176]\tvalidation_0-auc:0.966109\tvalidation_1-auc:0.94898\n",
      "[177]\tvalidation_0-auc:0.966272\tvalidation_1-auc:0.949006\n",
      "[178]\tvalidation_0-auc:0.965552\tvalidation_1-auc:0.948884\n",
      "[179]\tvalidation_0-auc:0.966492\tvalidation_1-auc:0.949407\n",
      "[180]\tvalidation_0-auc:0.965984\tvalidation_1-auc:0.949021\n",
      "[181]\tvalidation_0-auc:0.966626\tvalidation_1-auc:0.94956\n",
      "[182]\tvalidation_0-auc:0.966745\tvalidation_1-auc:0.949562\n",
      "[183]\tvalidation_0-auc:0.966917\tvalidation_1-auc:0.94978\n",
      "[184]\tvalidation_0-auc:0.966972\tvalidation_1-auc:0.949807\n",
      "[185]\tvalidation_0-auc:0.966826\tvalidation_1-auc:0.949829\n",
      "[186]\tvalidation_0-auc:0.967199\tvalidation_1-auc:0.949824\n",
      "[187]\tvalidation_0-auc:0.967152\tvalidation_1-auc:0.949889\n",
      "[188]\tvalidation_0-auc:0.967427\tvalidation_1-auc:0.950015\n",
      "[189]\tvalidation_0-auc:0.967775\tvalidation_1-auc:0.949733\n",
      "[190]\tvalidation_0-auc:0.967269\tvalidation_1-auc:0.950021\n",
      "[191]\tvalidation_0-auc:0.967542\tvalidation_1-auc:0.950374\n",
      "[192]\tvalidation_0-auc:0.967704\tvalidation_1-auc:0.949884\n",
      "[193]\tvalidation_0-auc:0.96774\tvalidation_1-auc:0.950126\n",
      "[194]\tvalidation_0-auc:0.968104\tvalidation_1-auc:0.950361\n",
      "[195]\tvalidation_0-auc:0.967815\tvalidation_1-auc:0.950266\n",
      "[196]\tvalidation_0-auc:0.96764\tvalidation_1-auc:0.95016\n",
      "[197]\tvalidation_0-auc:0.968085\tvalidation_1-auc:0.950202\n",
      "[198]\tvalidation_0-auc:0.968065\tvalidation_1-auc:0.950548\n",
      "[199]\tvalidation_0-auc:0.967802\tvalidation_1-auc:0.95074\n",
      "[200]\tvalidation_0-auc:0.968318\tvalidation_1-auc:0.95059\n",
      "[201]\tvalidation_0-auc:0.968433\tvalidation_1-auc:0.95103\n",
      "[202]\tvalidation_0-auc:0.968529\tvalidation_1-auc:0.950813\n",
      "[203]\tvalidation_0-auc:0.968664\tvalidation_1-auc:0.951048\n",
      "[204]\tvalidation_0-auc:0.969026\tvalidation_1-auc:0.951245\n",
      "[205]\tvalidation_0-auc:0.968743\tvalidation_1-auc:0.95081\n",
      "[206]\tvalidation_0-auc:0.968779\tvalidation_1-auc:0.950932\n",
      "[207]\tvalidation_0-auc:0.968669\tvalidation_1-auc:0.951434\n",
      "[208]\tvalidation_0-auc:0.968861\tvalidation_1-auc:0.951168\n",
      "[209]\tvalidation_0-auc:0.969475\tvalidation_1-auc:0.951259\n",
      "[210]\tvalidation_0-auc:0.969154\tvalidation_1-auc:0.951247\n",
      "[211]\tvalidation_0-auc:0.96914\tvalidation_1-auc:0.951323\n",
      "[212]\tvalidation_0-auc:0.969314\tvalidation_1-auc:0.951418\n",
      "[213]\tvalidation_0-auc:0.968953\tvalidation_1-auc:0.951252\n",
      "[214]\tvalidation_0-auc:0.969438\tvalidation_1-auc:0.951652\n",
      "[215]\tvalidation_0-auc:0.969485\tvalidation_1-auc:0.951525\n",
      "[216]\tvalidation_0-auc:0.969374\tvalidation_1-auc:0.951462\n",
      "[217]\tvalidation_0-auc:0.969455\tvalidation_1-auc:0.951409\n",
      "[218]\tvalidation_0-auc:0.969592\tvalidation_1-auc:0.951503\n",
      "[219]\tvalidation_0-auc:0.97016\tvalidation_1-auc:0.951369\n",
      "[220]\tvalidation_0-auc:0.969746\tvalidation_1-auc:0.951723\n",
      "[221]\tvalidation_0-auc:0.970064\tvalidation_1-auc:0.951562\n",
      "[222]\tvalidation_0-auc:0.969947\tvalidation_1-auc:0.951829\n",
      "[223]\tvalidation_0-auc:0.969953\tvalidation_1-auc:0.951832\n",
      "[224]\tvalidation_0-auc:0.97028\tvalidation_1-auc:0.952053\n",
      "[225]\tvalidation_0-auc:0.970088\tvalidation_1-auc:0.951956\n",
      "[226]\tvalidation_0-auc:0.970068\tvalidation_1-auc:0.951785\n",
      "[227]\tvalidation_0-auc:0.970684\tvalidation_1-auc:0.952101\n",
      "[228]\tvalidation_0-auc:0.970364\tvalidation_1-auc:0.952106\n",
      "[229]\tvalidation_0-auc:0.970251\tvalidation_1-auc:0.952339\n",
      "[230]\tvalidation_0-auc:0.970464\tvalidation_1-auc:0.952101\n",
      "[231]\tvalidation_0-auc:0.97078\tvalidation_1-auc:0.952127\n",
      "[232]\tvalidation_0-auc:0.970813\tvalidation_1-auc:0.952272\n",
      "[233]\tvalidation_0-auc:0.970295\tvalidation_1-auc:0.952392\n",
      "[234]\tvalidation_0-auc:0.971191\tvalidation_1-auc:0.952315\n",
      "[235]\tvalidation_0-auc:0.970561\tvalidation_1-auc:0.952109\n",
      "[236]\tvalidation_0-auc:0.970507\tvalidation_1-auc:0.951865\n",
      "[237]\tvalidation_0-auc:0.970758\tvalidation_1-auc:0.952342\n",
      "[238]\tvalidation_0-auc:0.971073\tvalidation_1-auc:0.951997\n",
      "[239]\tvalidation_0-auc:0.970918\tvalidation_1-auc:0.952563\n",
      "[240]\tvalidation_0-auc:0.970917\tvalidation_1-auc:0.952837\n",
      "[241]\tvalidation_0-auc:0.971062\tvalidation_1-auc:0.952749\n",
      "[242]\tvalidation_0-auc:0.970953\tvalidation_1-auc:0.952634\n",
      "[243]\tvalidation_0-auc:0.971315\tvalidation_1-auc:0.952581\n",
      "[244]\tvalidation_0-auc:0.971102\tvalidation_1-auc:0.952603\n",
      "[245]\tvalidation_0-auc:0.97119\tvalidation_1-auc:0.95276\n",
      "[246]\tvalidation_0-auc:0.971172\tvalidation_1-auc:0.953018\n",
      "[247]\tvalidation_0-auc:0.971372\tvalidation_1-auc:0.952868\n",
      "[248]\tvalidation_0-auc:0.971243\tvalidation_1-auc:0.952745\n",
      "[249]\tvalidation_0-auc:0.9713\tvalidation_1-auc:0.952978\n",
      "[250]\tvalidation_0-auc:0.971357\tvalidation_1-auc:0.95305\n",
      "[251]\tvalidation_0-auc:0.97163\tvalidation_1-auc:0.952987\n",
      "[252]\tvalidation_0-auc:0.971538\tvalidation_1-auc:0.952891\n",
      "[253]\tvalidation_0-auc:0.971124\tvalidation_1-auc:0.953362\n",
      "[254]\tvalidation_0-auc:0.971731\tvalidation_1-auc:0.953151\n",
      "[255]\tvalidation_0-auc:0.971589\tvalidation_1-auc:0.953542\n",
      "[256]\tvalidation_0-auc:0.971666\tvalidation_1-auc:0.953388\n",
      "[257]\tvalidation_0-auc:0.971725\tvalidation_1-auc:0.953226\n",
      "[258]\tvalidation_0-auc:0.971779\tvalidation_1-auc:0.953305\n",
      "[259]\tvalidation_0-auc:0.972055\tvalidation_1-auc:0.95325\n",
      "[260]\tvalidation_0-auc:0.97188\tvalidation_1-auc:0.953434\n",
      "[261]\tvalidation_0-auc:0.971871\tvalidation_1-auc:0.953614\n",
      "[262]\tvalidation_0-auc:0.971808\tvalidation_1-auc:0.953201\n",
      "[263]\tvalidation_0-auc:0.972311\tvalidation_1-auc:0.953404\n",
      "[264]\tvalidation_0-auc:0.97203\tvalidation_1-auc:0.953476\n",
      "[265]\tvalidation_0-auc:0.97216\tvalidation_1-auc:0.9534\n",
      "[266]\tvalidation_0-auc:0.971894\tvalidation_1-auc:0.953449\n",
      "[267]\tvalidation_0-auc:0.97225\tvalidation_1-auc:0.953397\n",
      "[268]\tvalidation_0-auc:0.972877\tvalidation_1-auc:0.953732\n",
      "[269]\tvalidation_0-auc:0.97211\tvalidation_1-auc:0.953805\n",
      "[270]\tvalidation_0-auc:0.972553\tvalidation_1-auc:0.954017\n",
      "[271]\tvalidation_0-auc:0.972155\tvalidation_1-auc:0.954074\n",
      "[272]\tvalidation_0-auc:0.972431\tvalidation_1-auc:0.954303\n",
      "[273]\tvalidation_0-auc:0.972469\tvalidation_1-auc:0.953763\n",
      "[274]\tvalidation_0-auc:0.972565\tvalidation_1-auc:0.953662\n",
      "[275]\tvalidation_0-auc:0.97287\tvalidation_1-auc:0.954056\n",
      "[276]\tvalidation_0-auc:0.973403\tvalidation_1-auc:0.954209\n",
      "[277]\tvalidation_0-auc:0.97324\tvalidation_1-auc:0.954047\n",
      "[278]\tvalidation_0-auc:0.973054\tvalidation_1-auc:0.953958\n",
      "[279]\tvalidation_0-auc:0.973006\tvalidation_1-auc:0.954172\n",
      "[280]\tvalidation_0-auc:0.973086\tvalidation_1-auc:0.95416\n",
      "[281]\tvalidation_0-auc:0.973234\tvalidation_1-auc:0.954125\n",
      "[282]\tvalidation_0-auc:0.973174\tvalidation_1-auc:0.954419\n"
     ]
    },
    {
     "name": "stdout",
     "output_type": "stream",
     "text": [
      "[283]\tvalidation_0-auc:0.973274\tvalidation_1-auc:0.954013\n",
      "[284]\tvalidation_0-auc:0.973116\tvalidation_1-auc:0.954264\n",
      "[285]\tvalidation_0-auc:0.973278\tvalidation_1-auc:0.954696\n",
      "[286]\tvalidation_0-auc:0.973502\tvalidation_1-auc:0.954571\n",
      "[287]\tvalidation_0-auc:0.973266\tvalidation_1-auc:0.954341\n",
      "[288]\tvalidation_0-auc:0.973632\tvalidation_1-auc:0.954228\n",
      "[289]\tvalidation_0-auc:0.973485\tvalidation_1-auc:0.954336\n",
      "[290]\tvalidation_0-auc:0.973294\tvalidation_1-auc:0.954456\n",
      "[291]\tvalidation_0-auc:0.97382\tvalidation_1-auc:0.954453\n",
      "[292]\tvalidation_0-auc:0.973516\tvalidation_1-auc:0.954422\n",
      "[293]\tvalidation_0-auc:0.973647\tvalidation_1-auc:0.954489\n",
      "[294]\tvalidation_0-auc:0.973637\tvalidation_1-auc:0.95435\n",
      "[295]\tvalidation_0-auc:0.973804\tvalidation_1-auc:0.954645\n",
      "Stopping. Best iteration:\n",
      "[285]\tvalidation_0-auc:0.973278\tvalidation_1-auc:0.954696\n",
      "\n"
     ]
    },
    {
     "data": {
      "text/plain": [
       "XGBClassifier(base_score=0.5, booster='dart', colsample_bylevel=1,\n",
       "       colsample_bynode=1, colsample_bytree=0.9, gamma=0,\n",
       "       learning_rate=0.1, max_delta_step=0, max_depth=8,\n",
       "       min_child_weight=1, missing=None, n_estimators=350, n_jobs=1,\n",
       "       nthread=None, objective='binary:logistic', random_state=0,\n",
       "       rate_drop=0.01, reg_alpha=0, reg_lambda=1, scale_pos_weight=1,\n",
       "       seed=None, silent=None, subsample=0.95, verbosity=1)"
      ]
     },
     "execution_count": 164,
     "metadata": {},
     "output_type": "execute_result"
    }
   ],
   "source": [
    "xgb_dart.fit(X_train, \n",
    "             y_train, \n",
    "             eval_set=[( X_train, y_train), ( X_test, y_test)],\n",
    "             eval_metric='auc',\n",
    "            early_stopping_rounds=10,\n",
    "            verbose=True)"
   ]
  },
  {
   "cell_type": "code",
   "execution_count": 166,
   "metadata": {},
   "outputs": [],
   "source": [
    "df2['preds'] = xgb_dart.predict_proba(df2[cols])[:, 1]"
   ]
  },
  {
   "cell_type": "code",
   "execution_count": 168,
   "metadata": {},
   "outputs": [],
   "source": [
    "from sklearn.metrics import auc, roc_curve"
   ]
  },
  {
   "cell_type": "code",
   "execution_count": 169,
   "metadata": {},
   "outputs": [],
   "source": [
    "fpr, tpr, thresholds= roc_curve(df2['isFraud'], df2['preds'])"
   ]
  },
  {
   "cell_type": "code",
   "execution_count": 191,
   "metadata": {},
   "outputs": [],
   "source": [
    "fpr2, tpr2, thresholds= roc_curve(df['isFraud'], df['preds2'])"
   ]
  },
  {
   "cell_type": "code",
   "execution_count": 171,
   "metadata": {},
   "outputs": [],
   "source": [
    "import matplotlib.pyplot as plt\n",
    "%matplotlib inline"
   ]
  },
  {
   "cell_type": "code",
   "execution_count": 172,
   "metadata": {},
   "outputs": [
    {
     "data": {
      "text/plain": [
       "[<matplotlib.lines.Line2D at 0x1376f71d0>]"
      ]
     },
     "execution_count": 172,
     "metadata": {},
     "output_type": "execute_result"
    },
    {
     "data": {
      "image/png": "[encoded data removed]",
      "text/plain": [
       "<Figure size 432x288 with 1 Axes>"
      ]
     },
     "metadata": {},
     "output_type": "display_data"
    }
   ],
   "source": [
    "plt.plot(fpr, tpr)"
   ]
  },
  {
   "cell_type": "code",
   "execution_count": 173,
   "metadata": {},
   "outputs": [
    {
     "data": {
      "text/plain": [
       "0.9704806626266985"
      ]
     },
     "execution_count": 173,
     "metadata": {},
     "output_type": "execute_result"
    }
   ],
   "source": [
    "auc(fpr, tpr)"
   ]
  },
  {
   "cell_type": "code",
   "execution_count": 174,
   "metadata": {},
   "outputs": [],
   "source": [
    "test = pd.read_csv('test_transaction.csv')"
   ]
  },
  {
   "cell_type": "code",
   "execution_count": 175,
   "metadata": {},
   "outputs": [],
   "source": [
    "test_id = pd.read_csv('test_identity.csv')"
   ]
  },
  {
   "cell_type": "code",
   "execution_count": 176,
   "metadata": {},
   "outputs": [],
   "source": [
    "test = pd.merge(test, test_id, how='left', on='TransactionID')"
   ]
  },
  {
   "cell_type": "code",
   "execution_count": 177,
   "metadata": {},
   "outputs": [
    {
     "name": "stdout",
     "output_type": "stream",
     "text": [
      "ProductCD 5\n",
      "card4 4\n",
      "card6 4\n",
      "M1 2\n",
      "M2 2\n",
      "M3 2\n",
      "M4 3\n",
      "M5 2\n",
      "M6 2\n",
      "M7 2\n",
      "M8 2\n",
      "M9 2\n",
      "id_12 2\n",
      "id_15 3\n",
      "id_16 2\n",
      "id_23 3\n",
      "id_27 2\n",
      "id_28 2\n",
      "id_29 2\n",
      "id_34 4\n",
      "id_35 2\n",
      "id_36 2\n",
      "id_37 2\n",
      "id_38 2\n",
      "DeviceType 2\n"
     ]
    }
   ],
   "source": [
    "for a,b in zip(df_dtypes, df_cols):\n",
    "    if a=='object':\n",
    "        cnt = len(df.groupby(b).TransactionID.count())\n",
    "        if cnt < 10:\n",
    "            print(b, cnt)\n",
    "            test = pd.concat([test, pd.get_dummies(test[b], prefix='pre_'+b)], axis=1)"
   ]
  },
  {
   "cell_type": "code",
   "execution_count": 178,
   "metadata": {},
   "outputs": [],
   "source": [
    "test['filtered_email'] = test.P_emaildomain.apply(lambda x: str(x).split('.')[0])\n",
    "test['filtered_email_R'] = test.R_emaildomain.apply(lambda x: str(x).split('.')[0])"
   ]
  },
  {
   "cell_type": "code",
   "execution_count": 179,
   "metadata": {},
   "outputs": [],
   "source": [
    "for col in email_assignments:\n",
    "    test['pre_p_email_'+col] = test['filtered_email']==col"
   ]
  },
  {
   "cell_type": "code",
   "execution_count": 180,
   "metadata": {},
   "outputs": [],
   "source": [
    "for col in email_assignments_R:\n",
    "    test['pre_r_email_'+col] = (test['filtered_email_R']==col).astype(int)"
   ]
  },
  {
   "cell_type": "code",
   "execution_count": 181,
   "metadata": {},
   "outputs": [],
   "source": [
    "test = test.assign(OS=test.id_30.apply(lambda x: str(x).split(' ')[0]))"
   ]
  },
  {
   "cell_type": "code",
   "execution_count": 182,
   "metadata": {},
   "outputs": [],
   "source": [
    "test = pd.concat([test, pd.get_dummies(test['OS'], prefix='pre_id30')], axis=1)"
   ]
  },
  {
   "cell_type": "code",
   "execution_count": 183,
   "metadata": {},
   "outputs": [],
   "source": [
    "test = test.assign(clean_id31=test.id_31.apply(lambda x: re.split('/| ', str(x))[0]))"
   ]
  },
  {
   "cell_type": "code",
   "execution_count": 185,
   "metadata": {},
   "outputs": [],
   "source": [
    "test['pre_width']=test['id_33'].apply(lambda x: np.float(str(x).split('x')[0]))\n",
    "test['pre_height']=test['id_33'].apply(lambda x: np.float(getFromArray(str(x).split('x'),1)))"
   ]
  },
  {
   "cell_type": "code",
   "execution_count": 186,
   "metadata": {},
   "outputs": [],
   "source": [
    "test = test.assign(deviceCleaner = test.DeviceInfo.apply(lambda x: re.split(':| | -', str(x))[0]))\n",
    "test['deviceCleaner'] = ['SAMSUNG' if a[0:2]=='SM' else a for a in test['deviceCleaner']]\n",
    "test['deviceCleaner'] = ['LG' if a[0:2]=='LG' else a for a in test['deviceCleaner']]"
   ]
  },
  {
   "cell_type": "code",
   "execution_count": 187,
   "metadata": {},
   "outputs": [],
   "source": [
    "for col in devices:\n",
    "    test['pre_device_'+col] = (test['deviceCleaner']==col).astype(int)"
   ]
  },
  {
   "cell_type": "code",
   "execution_count": 188,
   "metadata": {},
   "outputs": [],
   "source": [
    "test['is_transaction_hr'] = test['TransactionDT'].apply(lambda x: ((x/60/60/24) - np.floor(x/60/60/24))*24)"
   ]
  },
  {
   "cell_type": "code",
   "execution_count": 203,
   "metadata": {},
   "outputs": [],
   "source": [
    "test['pre_card6_debit or credit'] = 0\n",
    "test['pre_id_34_match_status:-1'] = 0\n",
    "test['pre_id_34_match_status:0'] = 0"
   ]
  },
  {
   "cell_type": "code",
   "execution_count": 205,
   "metadata": {},
   "outputs": [],
   "source": [
    "test['preds_dart'] = xgb_dart.predict_proba(test[cols])[:, 1]"
   ]
  },
  {
   "cell_type": "code",
   "execution_count": 206,
   "metadata": {},
   "outputs": [],
   "source": [
    "submission_DART_only = pd.DataFrame({'TransactionID':test['TransactionID'], 'isFraud': test['preds_dart']})\n"
   ]
  },
  {
   "cell_type": "code",
   "execution_count": 207,
   "metadata": {},
   "outputs": [],
   "source": [
    "submission_DART_only.to_csv('submission_dart_large.csv', index=False)"
   ]
  },
  {
   "cell_type": "code",
   "execution_count": null,
   "metadata": {},
   "outputs": [],
   "source": []
  }
 ],
 "metadata": {
  "kernelspec": {
   "display_name": "Python 3",
   "language": "python",
   "name": "python3"
  },
  "language_info": {
   "codemirror_mode": {
    "name": "ipython",
    "version": 3
   },
   "file_extension": ".py",
   "mimetype": "text/x-python",
   "name": "python",
   "nbconvert_exporter": "python",
   "pygments_lexer": "ipython3",
   "version": "3.6.5"
  }
 },
 "nbformat": 4,
 "nbformat_minor": 2
}
