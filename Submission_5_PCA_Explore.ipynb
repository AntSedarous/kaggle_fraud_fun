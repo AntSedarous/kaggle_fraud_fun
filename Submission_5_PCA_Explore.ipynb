{
 "cells": [
  {
   "cell_type": "code",
   "execution_count": 1,
   "metadata": {},
   "outputs": [],
   "source": [
    "import pandas as pd\n",
    "import numpy as np"
   ]
  },
  {
   "cell_type": "code",
   "execution_count": 2,
   "metadata": {},
   "outputs": [],
   "source": [
    "df = pd.read_csv('train_transaction.csv')"
   ]
  },
  {
   "cell_type": "code",
   "execution_count": 3,
   "metadata": {},
   "outputs": [],
   "source": [
    "df_id = pd.read_csv('train_identity.csv')"
   ]
  },
  {
   "cell_type": "code",
   "execution_count": 4,
   "metadata": {},
   "outputs": [],
   "source": [
    "df = pd.merge(df, df_id, how='left', on='TransactionID')"
   ]
  },
  {
   "cell_type": "code",
   "execution_count": 5,
   "metadata": {},
   "outputs": [
    {
     "data": {
      "text/html": [
       "<div>\n",
       "<style scoped>\n",
       "    .dataframe tbody tr th:only-of-type {\n",
       "        vertical-align: middle;\n",
       "    }\n",
       "\n",
       "    .dataframe tbody tr th {\n",
       "        vertical-align: top;\n",
       "    }\n",
       "\n",
       "    .dataframe thead th {\n",
       "        text-align: right;\n",
       "    }\n",
       "</style>\n",
       "<table border=\"1\" class=\"dataframe\">\n",
       "  <thead>\n",
       "    <tr style=\"text-align: right;\">\n",
       "      <th></th>\n",
       "      <th>TransactionID</th>\n",
       "      <th>isFraud</th>\n",
       "      <th>TransactionDT</th>\n",
       "      <th>TransactionAmt</th>\n",
       "      <th>ProductCD</th>\n",
       "      <th>card1</th>\n",
       "      <th>card2</th>\n",
       "      <th>card3</th>\n",
       "      <th>card4</th>\n",
       "      <th>card5</th>\n",
       "      <th>...</th>\n",
       "      <th>id_31</th>\n",
       "      <th>id_32</th>\n",
       "      <th>id_33</th>\n",
       "      <th>id_34</th>\n",
       "      <th>id_35</th>\n",
       "      <th>id_36</th>\n",
       "      <th>id_37</th>\n",
       "      <th>id_38</th>\n",
       "      <th>DeviceType</th>\n",
       "      <th>DeviceInfo</th>\n",
       "    </tr>\n",
       "  </thead>\n",
       "  <tbody>\n",
       "    <tr>\n",
       "      <th>0</th>\n",
       "      <td>2987000</td>\n",
       "      <td>0</td>\n",
       "      <td>86400</td>\n",
       "      <td>68.5</td>\n",
       "      <td>W</td>\n",
       "      <td>13926</td>\n",
       "      <td>NaN</td>\n",
       "      <td>150.0</td>\n",
       "      <td>discover</td>\n",
       "      <td>142.0</td>\n",
       "      <td>...</td>\n",
       "      <td>NaN</td>\n",
       "      <td>NaN</td>\n",
       "      <td>NaN</td>\n",
       "      <td>NaN</td>\n",
       "      <td>NaN</td>\n",
       "      <td>NaN</td>\n",
       "      <td>NaN</td>\n",
       "      <td>NaN</td>\n",
       "      <td>NaN</td>\n",
       "      <td>NaN</td>\n",
       "    </tr>\n",
       "    <tr>\n",
       "      <th>1</th>\n",
       "      <td>2987001</td>\n",
       "      <td>0</td>\n",
       "      <td>86401</td>\n",
       "      <td>29.0</td>\n",
       "      <td>W</td>\n",
       "      <td>2755</td>\n",
       "      <td>404.0</td>\n",
       "      <td>150.0</td>\n",
       "      <td>mastercard</td>\n",
       "      <td>102.0</td>\n",
       "      <td>...</td>\n",
       "      <td>NaN</td>\n",
       "      <td>NaN</td>\n",
       "      <td>NaN</td>\n",
       "      <td>NaN</td>\n",
       "      <td>NaN</td>\n",
       "      <td>NaN</td>\n",
       "      <td>NaN</td>\n",
       "      <td>NaN</td>\n",
       "      <td>NaN</td>\n",
       "      <td>NaN</td>\n",
       "    </tr>\n",
       "    <tr>\n",
       "      <th>2</th>\n",
       "      <td>2987002</td>\n",
       "      <td>0</td>\n",
       "      <td>86469</td>\n",
       "      <td>59.0</td>\n",
       "      <td>W</td>\n",
       "      <td>4663</td>\n",
       "      <td>490.0</td>\n",
       "      <td>150.0</td>\n",
       "      <td>visa</td>\n",
       "      <td>166.0</td>\n",
       "      <td>...</td>\n",
       "      <td>NaN</td>\n",
       "      <td>NaN</td>\n",
       "      <td>NaN</td>\n",
       "      <td>NaN</td>\n",
       "      <td>NaN</td>\n",
       "      <td>NaN</td>\n",
       "      <td>NaN</td>\n",
       "      <td>NaN</td>\n",
       "      <td>NaN</td>\n",
       "      <td>NaN</td>\n",
       "    </tr>\n",
       "    <tr>\n",
       "      <th>3</th>\n",
       "      <td>2987003</td>\n",
       "      <td>0</td>\n",
       "      <td>86499</td>\n",
       "      <td>50.0</td>\n",
       "      <td>W</td>\n",
       "      <td>18132</td>\n",
       "      <td>567.0</td>\n",
       "      <td>150.0</td>\n",
       "      <td>mastercard</td>\n",
       "      <td>117.0</td>\n",
       "      <td>...</td>\n",
       "      <td>NaN</td>\n",
       "      <td>NaN</td>\n",
       "      <td>NaN</td>\n",
       "      <td>NaN</td>\n",
       "      <td>NaN</td>\n",
       "      <td>NaN</td>\n",
       "      <td>NaN</td>\n",
       "      <td>NaN</td>\n",
       "      <td>NaN</td>\n",
       "      <td>NaN</td>\n",
       "    </tr>\n",
       "    <tr>\n",
       "      <th>4</th>\n",
       "      <td>2987004</td>\n",
       "      <td>0</td>\n",
       "      <td>86506</td>\n",
       "      <td>50.0</td>\n",
       "      <td>H</td>\n",
       "      <td>4497</td>\n",
       "      <td>514.0</td>\n",
       "      <td>150.0</td>\n",
       "      <td>mastercard</td>\n",
       "      <td>102.0</td>\n",
       "      <td>...</td>\n",
       "      <td>samsung browser 6.2</td>\n",
       "      <td>32.0</td>\n",
       "      <td>2220x1080</td>\n",
       "      <td>match_status:2</td>\n",
       "      <td>T</td>\n",
       "      <td>F</td>\n",
       "      <td>T</td>\n",
       "      <td>T</td>\n",
       "      <td>mobile</td>\n",
       "      <td>SAMSUNG SM-G892A Build/NRD90M</td>\n",
       "    </tr>\n",
       "  </tbody>\n",
       "</table>\n",
       "<p>5 rows × 434 columns</p>\n",
       "</div>"
      ],
      "text/plain": [
       "   TransactionID  isFraud  TransactionDT  TransactionAmt ProductCD  card1  \\\n",
       "0        2987000        0          86400            68.5         W  13926   \n",
       "1        2987001        0          86401            29.0         W   2755   \n",
       "2        2987002        0          86469            59.0         W   4663   \n",
       "3        2987003        0          86499            50.0         W  18132   \n",
       "4        2987004        0          86506            50.0         H   4497   \n",
       "\n",
       "   card2  card3       card4  card5              ...                \\\n",
       "0    NaN  150.0    discover  142.0              ...                 \n",
       "1  404.0  150.0  mastercard  102.0              ...                 \n",
       "2  490.0  150.0        visa  166.0              ...                 \n",
       "3  567.0  150.0  mastercard  117.0              ...                 \n",
       "4  514.0  150.0  mastercard  102.0              ...                 \n",
       "\n",
       "                 id_31  id_32      id_33           id_34  id_35 id_36 id_37  \\\n",
       "0                  NaN    NaN        NaN             NaN    NaN   NaN   NaN   \n",
       "1                  NaN    NaN        NaN             NaN    NaN   NaN   NaN   \n",
       "2                  NaN    NaN        NaN             NaN    NaN   NaN   NaN   \n",
       "3                  NaN    NaN        NaN             NaN    NaN   NaN   NaN   \n",
       "4  samsung browser 6.2   32.0  2220x1080  match_status:2      T     F     T   \n",
       "\n",
       "   id_38  DeviceType                     DeviceInfo  \n",
       "0    NaN         NaN                            NaN  \n",
       "1    NaN         NaN                            NaN  \n",
       "2    NaN         NaN                            NaN  \n",
       "3    NaN         NaN                            NaN  \n",
       "4      T      mobile  SAMSUNG SM-G892A Build/NRD90M  \n",
       "\n",
       "[5 rows x 434 columns]"
      ]
     },
     "execution_count": 5,
     "metadata": {},
     "output_type": "execute_result"
    }
   ],
   "source": [
    "df.head()"
   ]
  },
  {
   "cell_type": "code",
   "execution_count": 6,
   "metadata": {},
   "outputs": [],
   "source": [
    "sketchy_devices = list(df.groupby('DeviceInfo').isFraud.agg([np.mean, len]).query('len>10').query('mean>.5').index)"
   ]
  },
  {
   "cell_type": "code",
   "execution_count": 7,
   "metadata": {},
   "outputs": [],
   "source": [
    "sketchy_browser = list(df.groupby('id_31').isFraud.agg([np.mean, len]).query('len>10').query('mean>.15').index)"
   ]
  },
  {
   "cell_type": "code",
   "execution_count": 8,
   "metadata": {},
   "outputs": [],
   "source": [
    "#Dealing with NA\n",
    "df.fillna(0, inplace=True)\n",
    "#Variable Creation\n",
    "df['has_r'] = (pd.notna(df['R_emaildomain'])).astype(int)\n",
    "df['different_r'] = (df['has_r']) * (df.P_emaildomain == df.R_emaildomain).astype(int)\n",
    "df['is_discover'] = (df.card4=='discover').astype(int)\n",
    "df['is_credit'] = (df.card6=='credit').astype(int)\n",
    "df['is_sketchy_addr2'] = (df.addr2.isin([0,60,96]))\n",
    "df['is_na_M1'] = (df['M1']==0).astype(int)\n",
    "df['is_na_M2'] = (df['M2']==0).astype(int)\n",
    "df['is_na_M3'] = (df['M3']==0).astype(int)\n",
    "df['is_na_M5'] = (df['M5']==0).astype(int)\n",
    "df['is_na_M6'] = (df['M6']==0).astype(int)\n",
    "df['is_na_M7'] = (df['M7']==0).astype(int)\n",
    "df['is_na_M8'] = (df['M8']==0).astype(int)\n",
    "df['is_na_M9'] = (df['M9']==0).astype(int)\n",
    "df['is_big_NA'] = df['is_na_M1']*df['is_na_M2']*df['is_na_M3']*df['is_na_M5']*df['is_na_M6']*df['is_na_M7']*df['is_na_M8']*df['is_na_M9']\n",
    "df['is_C'] = (df.ProductCD=='C').astype(int)\n",
    "df['is_S'] = (df.ProductCD=='S').astype(int)\n",
    "df['is_H'] = (df.ProductCD=='H').astype(int)\n",
    "df['is_mobile'] = (df.DeviceType=='mobile').astype(int)\n",
    "df['is_sketchy_device'] = (df.DeviceInfo.isin(sketchy_devices)).astype(int)\n",
    "df['is_sketchy_browser'] = (df.id_31.isin(sketchy_browser)).astype(int)\n",
    "df['is_protonmail'] = (df.P_emaildomain=='protonmail.com').astype(int)\n",
    "df['is_elsewise_sketchy_email'] = (df.P_emaildomain.isin(['mail.com', 'outlook.es', 'aim.com', 'outlook.com']))\n",
    "df['is_match'] = (df.id_34=='match_status:1').astype(int)\n",
    "df['is_M4M2'] = (df['M4']=='M2').astype(int)\n",
    "df['is_M3'] = (df['M3']=='T').astype(int)\n",
    "df['is_M2'] = (df['M2']=='T').astype(int)\n",
    "df['is_M9'] = (df['M9']=='T').astype(int)\n",
    "df['is_no_info'] = (df.DeviceType==0).astype(int)\n"
   ]
  },
  {
   "cell_type": "code",
   "execution_count": 9,
   "metadata": {},
   "outputs": [],
   "source": []
  },
  {
   "cell_type": "code",
   "execution_count": 17,
   "metadata": {},
   "outputs": [],
   "source": [
    "pcaCols = list(df.columns[pd.Series(df.columns).apply(lambda x: x[0]=='V')])"
   ]
  },
  {
   "cell_type": "code",
   "execution_count": 11,
   "metadata": {},
   "outputs": [],
   "source": [
    "from sklearn.decomposition import PCA"
   ]
  },
  {
   "cell_type": "code",
   "execution_count": 12,
   "metadata": {},
   "outputs": [],
   "source": [
    "pca1 = PCA()"
   ]
  },
  {
   "cell_type": "code",
   "execution_count": 18,
   "metadata": {},
   "outputs": [
    {
     "data": {
      "text/plain": [
       "PCA(copy=True, iterated_power='auto', n_components=None, random_state=None,\n",
       "  svd_solver='auto', tol=0.0, whiten=False)"
      ]
     },
     "execution_count": 18,
     "metadata": {},
     "output_type": "execute_result"
    }
   ],
   "source": [
    "pca1.fit(df[pcaCols])"
   ]
  },
  {
   "cell_type": "code",
   "execution_count": 21,
   "metadata": {},
   "outputs": [],
   "source": [
    "tng = pca1.explained_variance_ratio_"
   ]
  },
  {
   "cell_type": "code",
   "execution_count": 101,
   "metadata": {},
   "outputs": [
    {
     "data": {
      "text/plain": [
       "0.999991390249288"
      ]
     },
     "execution_count": 101,
     "metadata": {},
     "output_type": "execute_result"
    }
   ],
   "source": [
    "sum(tng[0:40])"
   ]
  },
  {
   "cell_type": "code",
   "execution_count": 102,
   "metadata": {},
   "outputs": [],
   "source": [
    "smaller_v = pd.DataFrame(pca1.transform(df[pcaCols])[:, 0:40])"
   ]
  },
  {
   "cell_type": "code",
   "execution_count": 103,
   "metadata": {},
   "outputs": [],
   "source": [
    "smaller_v.columns = ['pca_'+str(a) for a in smaller_v.columns]"
   ]
  },
  {
   "cell_type": "code",
   "execution_count": 104,
   "metadata": {},
   "outputs": [],
   "source": [
    "df2 = pd.concat([df, smaller_v], axis=1)"
   ]
  },
  {
   "cell_type": "code",
   "execution_count": 53,
   "metadata": {},
   "outputs": [],
   "source": [
    "#Column Selection\n",
    "def colSelect(cols):\n",
    "    output = []\n",
    "    for col in cols:\n",
    "        if col in ['isFraud', 'DeviceType', 'DeviceInfo']:\n",
    "            output.append(False)\n",
    "        elif col[0]=='C':\n",
    "            output.append(True)\n",
    "        elif col[0:3]=='pca':\n",
    "            output.append(True)\n",
    "        elif col[0]=='D':\n",
    "            output.append(True)\n",
    "        elif col in ['has_r', 'different_r', 'dist1', 'dist2', 'card1', 'card2', 'card3', 'card5', 'TransactionAmt']:\n",
    "            output.append(True)\n",
    "        elif col[0:2]=='is':\n",
    "            output.append(True)\n",
    "        else:\n",
    "            output.append(False)\n",
    "    return(output)"
   ]
  },
  {
   "cell_type": "code",
   "execution_count": 52,
   "metadata": {},
   "outputs": [
    {
     "data": {
      "text/plain": [
       "'pca'"
      ]
     },
     "execution_count": 52,
     "metadata": {},
     "output_type": "execute_result"
    }
   ],
   "source": [
    "'pca_19'[0:3]"
   ]
  },
  {
   "cell_type": "code",
   "execution_count": 105,
   "metadata": {},
   "outputs": [],
   "source": [
    "cols = df2.columns[colSelect(df2.columns)]"
   ]
  },
  {
   "cell_type": "code",
   "execution_count": 106,
   "metadata": {},
   "outputs": [
    {
     "data": {
      "text/plain": [
       "Index(['TransactionAmt', 'card1', 'card2', 'card3', 'card5', 'dist1', 'dist2',\n",
       "       'C1', 'C2', 'C3',\n",
       "       ...\n",
       "       'pca_30', 'pca_31', 'pca_32', 'pca_33', 'pca_34', 'pca_35', 'pca_36',\n",
       "       'pca_37', 'pca_38', 'pca_39'],\n",
       "      dtype='object', length=104)"
      ]
     },
     "execution_count": 106,
     "metadata": {},
     "output_type": "execute_result"
    }
   ],
   "source": [
    "cols"
   ]
  },
  {
   "cell_type": "code",
   "execution_count": 57,
   "metadata": {},
   "outputs": [],
   "source": [
    "from xgboost import XGBClassifier"
   ]
  },
  {
   "cell_type": "code",
   "execution_count": 68,
   "metadata": {},
   "outputs": [],
   "source": [
    "from sklearn.model_selection import train_test_split"
   ]
  },
  {
   "cell_type": "code",
   "execution_count": 107,
   "metadata": {},
   "outputs": [],
   "source": [
    "X_train, X_test, y_train, y_test = train_test_split(df2[cols], df2['isFraud'], test_size=0.33, random_state=42)"
   ]
  },
  {
   "cell_type": "code",
   "execution_count": 108,
   "metadata": {},
   "outputs": [],
   "source": [
    "xgb_clf = XGBClassifier(n_estimators=450, max_depth=7, n_jobs=4, subsample=.9, colsample_bytree=.95, gamma=10, reg_alpha=.25)\n",
    "\n"
   ]
  },
  {
   "cell_type": "code",
   "execution_count": 109,
   "metadata": {},
   "outputs": [
    {
     "name": "stdout",
     "output_type": "stream",
     "text": [
      "[0]\tvalidation_0-auc:0.803504\tvalidation_1-auc:0.802158\n",
      "Multiple eval metrics have been passed: 'validation_1-auc' will be used for early stopping.\n",
      "\n",
      "Will train until validation_1-auc hasn't improved in 10 rounds.\n",
      "[1]\tvalidation_0-auc:0.826401\tvalidation_1-auc:0.82691\n",
      "[2]\tvalidation_0-auc:0.832753\tvalidation_1-auc:0.833249\n",
      "[3]\tvalidation_0-auc:0.847263\tvalidation_1-auc:0.847598\n",
      "[4]\tvalidation_0-auc:0.848412\tvalidation_1-auc:0.848235\n",
      "[5]\tvalidation_0-auc:0.849997\tvalidation_1-auc:0.84956\n",
      "[6]\tvalidation_0-auc:0.85041\tvalidation_1-auc:0.85022\n",
      "[7]\tvalidation_0-auc:0.851891\tvalidation_1-auc:0.851911\n",
      "[8]\tvalidation_0-auc:0.853294\tvalidation_1-auc:0.853165\n",
      "[9]\tvalidation_0-auc:0.853761\tvalidation_1-auc:0.853531\n",
      "[10]\tvalidation_0-auc:0.855206\tvalidation_1-auc:0.854619\n",
      "[11]\tvalidation_0-auc:0.855779\tvalidation_1-auc:0.855024\n",
      "[12]\tvalidation_0-auc:0.85636\tvalidation_1-auc:0.855345\n",
      "[13]\tvalidation_0-auc:0.857226\tvalidation_1-auc:0.855865\n",
      "[14]\tvalidation_0-auc:0.861137\tvalidation_1-auc:0.858884\n",
      "[15]\tvalidation_0-auc:0.862072\tvalidation_1-auc:0.859622\n",
      "[16]\tvalidation_0-auc:0.862984\tvalidation_1-auc:0.860209\n",
      "[17]\tvalidation_0-auc:0.863505\tvalidation_1-auc:0.860622\n",
      "[18]\tvalidation_0-auc:0.866167\tvalidation_1-auc:0.863007\n",
      "[19]\tvalidation_0-auc:0.867778\tvalidation_1-auc:0.864697\n",
      "[20]\tvalidation_0-auc:0.869001\tvalidation_1-auc:0.865785\n",
      "[21]\tvalidation_0-auc:0.871987\tvalidation_1-auc:0.868461\n",
      "[22]\tvalidation_0-auc:0.873883\tvalidation_1-auc:0.870484\n",
      "[23]\tvalidation_0-auc:0.877824\tvalidation_1-auc:0.873085\n",
      "[24]\tvalidation_0-auc:0.880344\tvalidation_1-auc:0.874917\n",
      "[25]\tvalidation_0-auc:0.881197\tvalidation_1-auc:0.875784\n",
      "[26]\tvalidation_0-auc:0.88414\tvalidation_1-auc:0.878772\n",
      "[27]\tvalidation_0-auc:0.886213\tvalidation_1-auc:0.880656\n",
      "[28]\tvalidation_0-auc:0.887702\tvalidation_1-auc:0.881671\n",
      "[29]\tvalidation_0-auc:0.889914\tvalidation_1-auc:0.883786\n",
      "[30]\tvalidation_0-auc:0.891425\tvalidation_1-auc:0.884991\n",
      "[31]\tvalidation_0-auc:0.892599\tvalidation_1-auc:0.885864\n",
      "[32]\tvalidation_0-auc:0.893245\tvalidation_1-auc:0.886401\n",
      "[33]\tvalidation_0-auc:0.894345\tvalidation_1-auc:0.887535\n",
      "[34]\tvalidation_0-auc:0.895867\tvalidation_1-auc:0.888944\n",
      "[35]\tvalidation_0-auc:0.896903\tvalidation_1-auc:0.889564\n",
      "[36]\tvalidation_0-auc:0.898239\tvalidation_1-auc:0.890721\n",
      "[37]\tvalidation_0-auc:0.899219\tvalidation_1-auc:0.891625\n",
      "[38]\tvalidation_0-auc:0.900241\tvalidation_1-auc:0.892496\n",
      "[39]\tvalidation_0-auc:0.901181\tvalidation_1-auc:0.893305\n",
      "[40]\tvalidation_0-auc:0.90206\tvalidation_1-auc:0.894161\n",
      "[41]\tvalidation_0-auc:0.903517\tvalidation_1-auc:0.895536\n",
      "[42]\tvalidation_0-auc:0.904489\tvalidation_1-auc:0.896246\n",
      "[43]\tvalidation_0-auc:0.905415\tvalidation_1-auc:0.896986\n",
      "[44]\tvalidation_0-auc:0.906421\tvalidation_1-auc:0.897517\n",
      "[45]\tvalidation_0-auc:0.907233\tvalidation_1-auc:0.898098\n",
      "[46]\tvalidation_0-auc:0.907911\tvalidation_1-auc:0.898502\n",
      "[47]\tvalidation_0-auc:0.908387\tvalidation_1-auc:0.898863\n",
      "[48]\tvalidation_0-auc:0.909246\tvalidation_1-auc:0.899566\n",
      "[49]\tvalidation_0-auc:0.910411\tvalidation_1-auc:0.900436\n",
      "[50]\tvalidation_0-auc:0.911287\tvalidation_1-auc:0.900967\n",
      "[51]\tvalidation_0-auc:0.911975\tvalidation_1-auc:0.901578\n",
      "[52]\tvalidation_0-auc:0.913582\tvalidation_1-auc:0.902794\n",
      "[53]\tvalidation_0-auc:0.914763\tvalidation_1-auc:0.904074\n",
      "[54]\tvalidation_0-auc:0.915248\tvalidation_1-auc:0.904376\n",
      "[55]\tvalidation_0-auc:0.916338\tvalidation_1-auc:0.905307\n",
      "[56]\tvalidation_0-auc:0.916951\tvalidation_1-auc:0.905735\n",
      "[57]\tvalidation_0-auc:0.917226\tvalidation_1-auc:0.905888\n",
      "[58]\tvalidation_0-auc:0.917857\tvalidation_1-auc:0.906458\n",
      "[59]\tvalidation_0-auc:0.918335\tvalidation_1-auc:0.906799\n",
      "[60]\tvalidation_0-auc:0.919031\tvalidation_1-auc:0.907385\n",
      "[61]\tvalidation_0-auc:0.919901\tvalidation_1-auc:0.908059\n",
      "[62]\tvalidation_0-auc:0.920565\tvalidation_1-auc:0.908393\n",
      "[63]\tvalidation_0-auc:0.920829\tvalidation_1-auc:0.908654\n",
      "[64]\tvalidation_0-auc:0.921447\tvalidation_1-auc:0.909166\n",
      "[65]\tvalidation_0-auc:0.921977\tvalidation_1-auc:0.909679\n",
      "[66]\tvalidation_0-auc:0.922701\tvalidation_1-auc:0.910237\n",
      "[67]\tvalidation_0-auc:0.922926\tvalidation_1-auc:0.910509\n",
      "[68]\tvalidation_0-auc:0.923163\tvalidation_1-auc:0.910706\n",
      "[69]\tvalidation_0-auc:0.923485\tvalidation_1-auc:0.910942\n",
      "[70]\tvalidation_0-auc:0.924515\tvalidation_1-auc:0.911615\n",
      "[71]\tvalidation_0-auc:0.924948\tvalidation_1-auc:0.911925\n",
      "[72]\tvalidation_0-auc:0.925707\tvalidation_1-auc:0.912468\n",
      "[73]\tvalidation_0-auc:0.925916\tvalidation_1-auc:0.912649\n",
      "[74]\tvalidation_0-auc:0.926468\tvalidation_1-auc:0.913043\n",
      "[75]\tvalidation_0-auc:0.926951\tvalidation_1-auc:0.913446\n",
      "[76]\tvalidation_0-auc:0.927174\tvalidation_1-auc:0.913599\n",
      "[77]\tvalidation_0-auc:0.927392\tvalidation_1-auc:0.913718\n",
      "[78]\tvalidation_0-auc:0.927675\tvalidation_1-auc:0.913891\n",
      "[79]\tvalidation_0-auc:0.928234\tvalidation_1-auc:0.914277\n",
      "[80]\tvalidation_0-auc:0.928484\tvalidation_1-auc:0.914497\n",
      "[81]\tvalidation_0-auc:0.928608\tvalidation_1-auc:0.914571\n",
      "[82]\tvalidation_0-auc:0.928904\tvalidation_1-auc:0.914836\n",
      "[83]\tvalidation_0-auc:0.929029\tvalidation_1-auc:0.914936\n",
      "[84]\tvalidation_0-auc:0.929219\tvalidation_1-auc:0.915117\n",
      "[85]\tvalidation_0-auc:0.929319\tvalidation_1-auc:0.915238\n",
      "[86]\tvalidation_0-auc:0.929428\tvalidation_1-auc:0.915357\n",
      "[87]\tvalidation_0-auc:0.929656\tvalidation_1-auc:0.915571\n",
      "[88]\tvalidation_0-auc:0.929872\tvalidation_1-auc:0.915703\n",
      "[89]\tvalidation_0-auc:0.930427\tvalidation_1-auc:0.916122\n",
      "[90]\tvalidation_0-auc:0.930751\tvalidation_1-auc:0.916359\n",
      "[91]\tvalidation_0-auc:0.931065\tvalidation_1-auc:0.916646\n",
      "[92]\tvalidation_0-auc:0.931279\tvalidation_1-auc:0.916865\n",
      "[93]\tvalidation_0-auc:0.931425\tvalidation_1-auc:0.917031\n",
      "[94]\tvalidation_0-auc:0.931667\tvalidation_1-auc:0.917144\n",
      "[95]\tvalidation_0-auc:0.931894\tvalidation_1-auc:0.917278\n",
      "[96]\tvalidation_0-auc:0.931994\tvalidation_1-auc:0.917364\n",
      "[97]\tvalidation_0-auc:0.932326\tvalidation_1-auc:0.917659\n",
      "[98]\tvalidation_0-auc:0.932511\tvalidation_1-auc:0.917846\n",
      "[99]\tvalidation_0-auc:0.932899\tvalidation_1-auc:0.918147\n",
      "[100]\tvalidation_0-auc:0.933159\tvalidation_1-auc:0.918338\n",
      "[101]\tvalidation_0-auc:0.933814\tvalidation_1-auc:0.919017\n",
      "[102]\tvalidation_0-auc:0.934299\tvalidation_1-auc:0.91946\n",
      "[103]\tvalidation_0-auc:0.934379\tvalidation_1-auc:0.91954\n",
      "[104]\tvalidation_0-auc:0.934536\tvalidation_1-auc:0.919628\n",
      "[105]\tvalidation_0-auc:0.934599\tvalidation_1-auc:0.919659\n",
      "[106]\tvalidation_0-auc:0.935398\tvalidation_1-auc:0.920329\n",
      "[107]\tvalidation_0-auc:0.935759\tvalidation_1-auc:0.920542\n",
      "[108]\tvalidation_0-auc:0.935902\tvalidation_1-auc:0.920647\n",
      "[109]\tvalidation_0-auc:0.936139\tvalidation_1-auc:0.920846\n",
      "[110]\tvalidation_0-auc:0.936362\tvalidation_1-auc:0.921028\n",
      "[111]\tvalidation_0-auc:0.936543\tvalidation_1-auc:0.921217\n",
      "[112]\tvalidation_0-auc:0.93659\tvalidation_1-auc:0.921268\n",
      "[113]\tvalidation_0-auc:0.936743\tvalidation_1-auc:0.921376\n",
      "[114]\tvalidation_0-auc:0.936852\tvalidation_1-auc:0.921452\n",
      "[115]\tvalidation_0-auc:0.937055\tvalidation_1-auc:0.921592\n",
      "[116]\tvalidation_0-auc:0.937152\tvalidation_1-auc:0.921597\n",
      "[117]\tvalidation_0-auc:0.937307\tvalidation_1-auc:0.921728\n",
      "[118]\tvalidation_0-auc:0.937464\tvalidation_1-auc:0.921842\n",
      "[119]\tvalidation_0-auc:0.937722\tvalidation_1-auc:0.922018\n",
      "[120]\tvalidation_0-auc:0.937908\tvalidation_1-auc:0.922178\n",
      "[121]\tvalidation_0-auc:0.937995\tvalidation_1-auc:0.922239\n",
      "[122]\tvalidation_0-auc:0.938085\tvalidation_1-auc:0.922309\n",
      "[123]\tvalidation_0-auc:0.938168\tvalidation_1-auc:0.922324\n",
      "[124]\tvalidation_0-auc:0.938271\tvalidation_1-auc:0.922404\n",
      "[125]\tvalidation_0-auc:0.938357\tvalidation_1-auc:0.922395\n",
      "[126]\tvalidation_0-auc:0.938636\tvalidation_1-auc:0.922577\n",
      "[127]\tvalidation_0-auc:0.938971\tvalidation_1-auc:0.922764\n",
      "[128]\tvalidation_0-auc:0.939286\tvalidation_1-auc:0.923052\n",
      "[129]\tvalidation_0-auc:0.939402\tvalidation_1-auc:0.92313\n",
      "[130]\tvalidation_0-auc:0.939518\tvalidation_1-auc:0.923121\n",
      "[131]\tvalidation_0-auc:0.93956\tvalidation_1-auc:0.923144\n",
      "[132]\tvalidation_0-auc:0.940018\tvalidation_1-auc:0.923613\n",
      "[133]\tvalidation_0-auc:0.940358\tvalidation_1-auc:0.923914\n",
      "[134]\tvalidation_0-auc:0.940552\tvalidation_1-auc:0.9241\n",
      "[135]\tvalidation_0-auc:0.940643\tvalidation_1-auc:0.924125\n",
      "[136]\tvalidation_0-auc:0.940643\tvalidation_1-auc:0.924125\n",
      "[137]\tvalidation_0-auc:0.940681\tvalidation_1-auc:0.924146\n",
      "[138]\tvalidation_0-auc:0.940749\tvalidation_1-auc:0.924164\n",
      "[139]\tvalidation_0-auc:0.940776\tvalidation_1-auc:0.924149\n",
      "[140]\tvalidation_0-auc:0.941425\tvalidation_1-auc:0.924626\n"
     ]
    },
    {
     "name": "stdout",
     "output_type": "stream",
     "text": [
      "[141]\tvalidation_0-auc:0.941518\tvalidation_1-auc:0.924721\n",
      "[142]\tvalidation_0-auc:0.941653\tvalidation_1-auc:0.924786\n",
      "[143]\tvalidation_0-auc:0.941835\tvalidation_1-auc:0.924902\n",
      "[144]\tvalidation_0-auc:0.941991\tvalidation_1-auc:0.925014\n",
      "[145]\tvalidation_0-auc:0.942098\tvalidation_1-auc:0.92508\n",
      "[146]\tvalidation_0-auc:0.942237\tvalidation_1-auc:0.925215\n",
      "[147]\tvalidation_0-auc:0.942567\tvalidation_1-auc:0.925574\n",
      "[148]\tvalidation_0-auc:0.942655\tvalidation_1-auc:0.925674\n",
      "[149]\tvalidation_0-auc:0.942655\tvalidation_1-auc:0.925674\n",
      "[150]\tvalidation_0-auc:0.942743\tvalidation_1-auc:0.925743\n",
      "[151]\tvalidation_0-auc:0.942765\tvalidation_1-auc:0.925753\n",
      "[152]\tvalidation_0-auc:0.942995\tvalidation_1-auc:0.925858\n",
      "[153]\tvalidation_0-auc:0.943084\tvalidation_1-auc:0.9259\n",
      "[154]\tvalidation_0-auc:0.943116\tvalidation_1-auc:0.92592\n",
      "[155]\tvalidation_0-auc:0.943137\tvalidation_1-auc:0.925953\n",
      "[156]\tvalidation_0-auc:0.94326\tvalidation_1-auc:0.926074\n",
      "[157]\tvalidation_0-auc:0.943299\tvalidation_1-auc:0.926103\n",
      "[158]\tvalidation_0-auc:0.943338\tvalidation_1-auc:0.926114\n",
      "[159]\tvalidation_0-auc:0.943567\tvalidation_1-auc:0.926288\n",
      "[160]\tvalidation_0-auc:0.943789\tvalidation_1-auc:0.926548\n",
      "[161]\tvalidation_0-auc:0.943985\tvalidation_1-auc:0.926701\n",
      "[162]\tvalidation_0-auc:0.944005\tvalidation_1-auc:0.926712\n",
      "[163]\tvalidation_0-auc:0.944041\tvalidation_1-auc:0.926722\n",
      "[164]\tvalidation_0-auc:0.944103\tvalidation_1-auc:0.926758\n",
      "[165]\tvalidation_0-auc:0.944116\tvalidation_1-auc:0.926765\n",
      "[166]\tvalidation_0-auc:0.944271\tvalidation_1-auc:0.926901\n",
      "[167]\tvalidation_0-auc:0.944428\tvalidation_1-auc:0.926971\n",
      "[168]\tvalidation_0-auc:0.944866\tvalidation_1-auc:0.927283\n",
      "[169]\tvalidation_0-auc:0.944907\tvalidation_1-auc:0.927312\n",
      "[170]\tvalidation_0-auc:0.94498\tvalidation_1-auc:0.927322\n",
      "[171]\tvalidation_0-auc:0.94502\tvalidation_1-auc:0.927333\n",
      "[172]\tvalidation_0-auc:0.945029\tvalidation_1-auc:0.927333\n",
      "[173]\tvalidation_0-auc:0.94541\tvalidation_1-auc:0.927633\n",
      "[174]\tvalidation_0-auc:0.945445\tvalidation_1-auc:0.927653\n",
      "[175]\tvalidation_0-auc:0.945521\tvalidation_1-auc:0.927682\n",
      "[176]\tvalidation_0-auc:0.945521\tvalidation_1-auc:0.927682\n",
      "[177]\tvalidation_0-auc:0.945606\tvalidation_1-auc:0.927727\n",
      "[178]\tvalidation_0-auc:0.945735\tvalidation_1-auc:0.927809\n",
      "[179]\tvalidation_0-auc:0.945969\tvalidation_1-auc:0.927985\n",
      "[180]\tvalidation_0-auc:0.945969\tvalidation_1-auc:0.927985\n",
      "[181]\tvalidation_0-auc:0.946117\tvalidation_1-auc:0.928068\n",
      "[182]\tvalidation_0-auc:0.946241\tvalidation_1-auc:0.928107\n",
      "[183]\tvalidation_0-auc:0.94639\tvalidation_1-auc:0.928214\n",
      "[184]\tvalidation_0-auc:0.946503\tvalidation_1-auc:0.928362\n",
      "[185]\tvalidation_0-auc:0.946846\tvalidation_1-auc:0.9285\n",
      "[186]\tvalidation_0-auc:0.946846\tvalidation_1-auc:0.9285\n",
      "[187]\tvalidation_0-auc:0.9469\tvalidation_1-auc:0.928553\n",
      "[188]\tvalidation_0-auc:0.947161\tvalidation_1-auc:0.92882\n",
      "[189]\tvalidation_0-auc:0.947219\tvalidation_1-auc:0.928855\n",
      "[190]\tvalidation_0-auc:0.947535\tvalidation_1-auc:0.929032\n",
      "[191]\tvalidation_0-auc:0.947535\tvalidation_1-auc:0.929032\n",
      "[192]\tvalidation_0-auc:0.947535\tvalidation_1-auc:0.929032\n",
      "[193]\tvalidation_0-auc:0.947639\tvalidation_1-auc:0.929107\n",
      "[194]\tvalidation_0-auc:0.947653\tvalidation_1-auc:0.929116\n",
      "[195]\tvalidation_0-auc:0.947656\tvalidation_1-auc:0.929113\n",
      "[196]\tvalidation_0-auc:0.947711\tvalidation_1-auc:0.929129\n",
      "[197]\tvalidation_0-auc:0.947711\tvalidation_1-auc:0.929125\n",
      "[198]\tvalidation_0-auc:0.947711\tvalidation_1-auc:0.929125\n",
      "[199]\tvalidation_0-auc:0.947818\tvalidation_1-auc:0.92916\n",
      "[200]\tvalidation_0-auc:0.947861\tvalidation_1-auc:0.929177\n",
      "[201]\tvalidation_0-auc:0.947879\tvalidation_1-auc:0.929205\n",
      "[202]\tvalidation_0-auc:0.948001\tvalidation_1-auc:0.929291\n",
      "[203]\tvalidation_0-auc:0.948115\tvalidation_1-auc:0.92933\n",
      "[204]\tvalidation_0-auc:0.94816\tvalidation_1-auc:0.929371\n",
      "[205]\tvalidation_0-auc:0.948282\tvalidation_1-auc:0.929539\n",
      "[206]\tvalidation_0-auc:0.948362\tvalidation_1-auc:0.929559\n",
      "[207]\tvalidation_0-auc:0.948648\tvalidation_1-auc:0.92989\n",
      "[208]\tvalidation_0-auc:0.948746\tvalidation_1-auc:0.929981\n",
      "[209]\tvalidation_0-auc:0.948749\tvalidation_1-auc:0.929987\n",
      "[210]\tvalidation_0-auc:0.948749\tvalidation_1-auc:0.929987\n",
      "[211]\tvalidation_0-auc:0.948867\tvalidation_1-auc:0.93006\n",
      "[212]\tvalidation_0-auc:0.948892\tvalidation_1-auc:0.930059\n",
      "[213]\tvalidation_0-auc:0.949014\tvalidation_1-auc:0.930164\n",
      "[214]\tvalidation_0-auc:0.94909\tvalidation_1-auc:0.930189\n",
      "[215]\tvalidation_0-auc:0.949139\tvalidation_1-auc:0.930214\n",
      "[216]\tvalidation_0-auc:0.949139\tvalidation_1-auc:0.930214\n",
      "[217]\tvalidation_0-auc:0.949205\tvalidation_1-auc:0.930218\n",
      "[218]\tvalidation_0-auc:0.94923\tvalidation_1-auc:0.930209\n",
      "[219]\tvalidation_0-auc:0.94923\tvalidation_1-auc:0.930209\n",
      "[220]\tvalidation_0-auc:0.949429\tvalidation_1-auc:0.930384\n",
      "[221]\tvalidation_0-auc:0.949579\tvalidation_1-auc:0.930473\n",
      "[222]\tvalidation_0-auc:0.949711\tvalidation_1-auc:0.930631\n",
      "[223]\tvalidation_0-auc:0.949789\tvalidation_1-auc:0.930692\n",
      "[224]\tvalidation_0-auc:0.949841\tvalidation_1-auc:0.930678\n",
      "[225]\tvalidation_0-auc:0.949838\tvalidation_1-auc:0.930673\n",
      "[226]\tvalidation_0-auc:0.949951\tvalidation_1-auc:0.930713\n",
      "[227]\tvalidation_0-auc:0.949961\tvalidation_1-auc:0.930719\n",
      "[228]\tvalidation_0-auc:0.950077\tvalidation_1-auc:0.930768\n",
      "[229]\tvalidation_0-auc:0.950078\tvalidation_1-auc:0.930769\n",
      "[230]\tvalidation_0-auc:0.950161\tvalidation_1-auc:0.930815\n",
      "[231]\tvalidation_0-auc:0.950188\tvalidation_1-auc:0.930854\n",
      "[232]\tvalidation_0-auc:0.950209\tvalidation_1-auc:0.930851\n",
      "[233]\tvalidation_0-auc:0.950236\tvalidation_1-auc:0.930866\n",
      "[234]\tvalidation_0-auc:0.950255\tvalidation_1-auc:0.930864\n",
      "[235]\tvalidation_0-auc:0.950255\tvalidation_1-auc:0.930864\n",
      "[236]\tvalidation_0-auc:0.950314\tvalidation_1-auc:0.930915\n",
      "[237]\tvalidation_0-auc:0.950397\tvalidation_1-auc:0.930952\n",
      "[238]\tvalidation_0-auc:0.950432\tvalidation_1-auc:0.931\n",
      "[239]\tvalidation_0-auc:0.950432\tvalidation_1-auc:0.931\n",
      "[240]\tvalidation_0-auc:0.950505\tvalidation_1-auc:0.931023\n",
      "[241]\tvalidation_0-auc:0.950512\tvalidation_1-auc:0.93102\n",
      "[242]\tvalidation_0-auc:0.95055\tvalidation_1-auc:0.931018\n",
      "[243]\tvalidation_0-auc:0.950586\tvalidation_1-auc:0.931056\n",
      "[244]\tvalidation_0-auc:0.950584\tvalidation_1-auc:0.931036\n",
      "[245]\tvalidation_0-auc:0.950596\tvalidation_1-auc:0.931033\n",
      "[246]\tvalidation_0-auc:0.950648\tvalidation_1-auc:0.93105\n",
      "[247]\tvalidation_0-auc:0.950826\tvalidation_1-auc:0.93112\n",
      "[248]\tvalidation_0-auc:0.951007\tvalidation_1-auc:0.931239\n",
      "[249]\tvalidation_0-auc:0.951078\tvalidation_1-auc:0.931307\n",
      "[250]\tvalidation_0-auc:0.951136\tvalidation_1-auc:0.93131\n",
      "[251]\tvalidation_0-auc:0.95125\tvalidation_1-auc:0.931336\n",
      "[252]\tvalidation_0-auc:0.951299\tvalidation_1-auc:0.93136\n",
      "[253]\tvalidation_0-auc:0.951305\tvalidation_1-auc:0.931373\n",
      "[254]\tvalidation_0-auc:0.951455\tvalidation_1-auc:0.931405\n",
      "[255]\tvalidation_0-auc:0.951474\tvalidation_1-auc:0.931409\n",
      "[256]\tvalidation_0-auc:0.951472\tvalidation_1-auc:0.93141\n",
      "[257]\tvalidation_0-auc:0.951486\tvalidation_1-auc:0.931424\n",
      "[258]\tvalidation_0-auc:0.951612\tvalidation_1-auc:0.931415\n",
      "[259]\tvalidation_0-auc:0.951649\tvalidation_1-auc:0.931461\n",
      "[260]\tvalidation_0-auc:0.951659\tvalidation_1-auc:0.931461\n",
      "[261]\tvalidation_0-auc:0.951703\tvalidation_1-auc:0.931504\n",
      "[262]\tvalidation_0-auc:0.951777\tvalidation_1-auc:0.931536\n",
      "[263]\tvalidation_0-auc:0.951937\tvalidation_1-auc:0.931625\n",
      "[264]\tvalidation_0-auc:0.952016\tvalidation_1-auc:0.931652\n",
      "[265]\tvalidation_0-auc:0.952016\tvalidation_1-auc:0.931652\n",
      "[266]\tvalidation_0-auc:0.952045\tvalidation_1-auc:0.931692\n",
      "[267]\tvalidation_0-auc:0.952106\tvalidation_1-auc:0.931761\n",
      "[268]\tvalidation_0-auc:0.95228\tvalidation_1-auc:0.931838\n",
      "[269]\tvalidation_0-auc:0.952322\tvalidation_1-auc:0.931837\n",
      "[270]\tvalidation_0-auc:0.952352\tvalidation_1-auc:0.931865\n",
      "[271]\tvalidation_0-auc:0.952352\tvalidation_1-auc:0.931865\n",
      "[272]\tvalidation_0-auc:0.952384\tvalidation_1-auc:0.931865\n",
      "[273]\tvalidation_0-auc:0.952384\tvalidation_1-auc:0.931865\n",
      "[274]\tvalidation_0-auc:0.952384\tvalidation_1-auc:0.931865\n",
      "[275]\tvalidation_0-auc:0.952384\tvalidation_1-auc:0.931865\n",
      "[276]\tvalidation_0-auc:0.952418\tvalidation_1-auc:0.931899\n",
      "[277]\tvalidation_0-auc:0.952465\tvalidation_1-auc:0.931902\n",
      "[278]\tvalidation_0-auc:0.95254\tvalidation_1-auc:0.931971\n",
      "[279]\tvalidation_0-auc:0.952576\tvalidation_1-auc:0.932005\n",
      "[280]\tvalidation_0-auc:0.952719\tvalidation_1-auc:0.932125\n",
      "[281]\tvalidation_0-auc:0.952747\tvalidation_1-auc:0.932138\n",
      "[282]\tvalidation_0-auc:0.952747\tvalidation_1-auc:0.932138\n"
     ]
    },
    {
     "name": "stdout",
     "output_type": "stream",
     "text": [
      "[283]\tvalidation_0-auc:0.952775\tvalidation_1-auc:0.932139\n",
      "[284]\tvalidation_0-auc:0.952916\tvalidation_1-auc:0.932241\n",
      "[285]\tvalidation_0-auc:0.952916\tvalidation_1-auc:0.932241\n",
      "[286]\tvalidation_0-auc:0.952985\tvalidation_1-auc:0.93234\n",
      "[287]\tvalidation_0-auc:0.953144\tvalidation_1-auc:0.932389\n",
      "[288]\tvalidation_0-auc:0.953358\tvalidation_1-auc:0.932621\n",
      "[289]\tvalidation_0-auc:0.953355\tvalidation_1-auc:0.932616\n",
      "[290]\tvalidation_0-auc:0.953697\tvalidation_1-auc:0.932811\n",
      "[291]\tvalidation_0-auc:0.953727\tvalidation_1-auc:0.932822\n",
      "[292]\tvalidation_0-auc:0.95374\tvalidation_1-auc:0.932826\n",
      "[293]\tvalidation_0-auc:0.953743\tvalidation_1-auc:0.932829\n",
      "[294]\tvalidation_0-auc:0.95378\tvalidation_1-auc:0.932849\n",
      "[295]\tvalidation_0-auc:0.953819\tvalidation_1-auc:0.932873\n",
      "[296]\tvalidation_0-auc:0.953866\tvalidation_1-auc:0.932907\n",
      "[297]\tvalidation_0-auc:0.953965\tvalidation_1-auc:0.932952\n",
      "[298]\tvalidation_0-auc:0.954108\tvalidation_1-auc:0.932932\n",
      "[299]\tvalidation_0-auc:0.954136\tvalidation_1-auc:0.932954\n",
      "[300]\tvalidation_0-auc:0.954176\tvalidation_1-auc:0.932976\n",
      "[301]\tvalidation_0-auc:0.954182\tvalidation_1-auc:0.932982\n",
      "[302]\tvalidation_0-auc:0.954182\tvalidation_1-auc:0.932982\n",
      "[303]\tvalidation_0-auc:0.954218\tvalidation_1-auc:0.933016\n",
      "[304]\tvalidation_0-auc:0.954218\tvalidation_1-auc:0.933016\n",
      "[305]\tvalidation_0-auc:0.954238\tvalidation_1-auc:0.93303\n",
      "[306]\tvalidation_0-auc:0.954348\tvalidation_1-auc:0.933044\n",
      "[307]\tvalidation_0-auc:0.954386\tvalidation_1-auc:0.933062\n",
      "[308]\tvalidation_0-auc:0.954386\tvalidation_1-auc:0.933062\n",
      "[309]\tvalidation_0-auc:0.954495\tvalidation_1-auc:0.933085\n",
      "[310]\tvalidation_0-auc:0.954526\tvalidation_1-auc:0.933112\n",
      "[311]\tvalidation_0-auc:0.954526\tvalidation_1-auc:0.933112\n",
      "[312]\tvalidation_0-auc:0.954542\tvalidation_1-auc:0.933122\n",
      "[313]\tvalidation_0-auc:0.954542\tvalidation_1-auc:0.933122\n",
      "[314]\tvalidation_0-auc:0.95457\tvalidation_1-auc:0.933139\n",
      "[315]\tvalidation_0-auc:0.95458\tvalidation_1-auc:0.933141\n",
      "[316]\tvalidation_0-auc:0.954581\tvalidation_1-auc:0.933149\n",
      "[317]\tvalidation_0-auc:0.954572\tvalidation_1-auc:0.933119\n",
      "[318]\tvalidation_0-auc:0.954585\tvalidation_1-auc:0.933128\n",
      "[319]\tvalidation_0-auc:0.954607\tvalidation_1-auc:0.933161\n",
      "[320]\tvalidation_0-auc:0.954642\tvalidation_1-auc:0.933188\n",
      "[321]\tvalidation_0-auc:0.954642\tvalidation_1-auc:0.933188\n",
      "[322]\tvalidation_0-auc:0.954694\tvalidation_1-auc:0.933217\n",
      "[323]\tvalidation_0-auc:0.954694\tvalidation_1-auc:0.933217\n",
      "[324]\tvalidation_0-auc:0.954694\tvalidation_1-auc:0.933217\n",
      "[325]\tvalidation_0-auc:0.954752\tvalidation_1-auc:0.933222\n",
      "[326]\tvalidation_0-auc:0.954762\tvalidation_1-auc:0.933207\n",
      "[327]\tvalidation_0-auc:0.954762\tvalidation_1-auc:0.933207\n",
      "[328]\tvalidation_0-auc:0.954838\tvalidation_1-auc:0.933233\n",
      "[329]\tvalidation_0-auc:0.954838\tvalidation_1-auc:0.933233\n",
      "[330]\tvalidation_0-auc:0.95485\tvalidation_1-auc:0.93325\n",
      "[331]\tvalidation_0-auc:0.954936\tvalidation_1-auc:0.933273\n",
      "[332]\tvalidation_0-auc:0.954935\tvalidation_1-auc:0.933268\n",
      "[333]\tvalidation_0-auc:0.954966\tvalidation_1-auc:0.933303\n",
      "[334]\tvalidation_0-auc:0.954966\tvalidation_1-auc:0.933303\n",
      "[335]\tvalidation_0-auc:0.954966\tvalidation_1-auc:0.933303\n",
      "[336]\tvalidation_0-auc:0.955026\tvalidation_1-auc:0.933341\n",
      "[337]\tvalidation_0-auc:0.955026\tvalidation_1-auc:0.933341\n",
      "[338]\tvalidation_0-auc:0.955026\tvalidation_1-auc:0.933341\n",
      "[339]\tvalidation_0-auc:0.955044\tvalidation_1-auc:0.933351\n",
      "[340]\tvalidation_0-auc:0.955056\tvalidation_1-auc:0.933359\n",
      "[341]\tvalidation_0-auc:0.955255\tvalidation_1-auc:0.933376\n",
      "[342]\tvalidation_0-auc:0.955255\tvalidation_1-auc:0.933376\n",
      "[343]\tvalidation_0-auc:0.955255\tvalidation_1-auc:0.933376\n",
      "[344]\tvalidation_0-auc:0.955255\tvalidation_1-auc:0.933376\n",
      "[345]\tvalidation_0-auc:0.955452\tvalidation_1-auc:0.93349\n",
      "[346]\tvalidation_0-auc:0.955535\tvalidation_1-auc:0.933517\n",
      "[347]\tvalidation_0-auc:0.955535\tvalidation_1-auc:0.933517\n",
      "[348]\tvalidation_0-auc:0.955535\tvalidation_1-auc:0.933517\n",
      "[349]\tvalidation_0-auc:0.955539\tvalidation_1-auc:0.933518\n",
      "[350]\tvalidation_0-auc:0.955543\tvalidation_1-auc:0.933515\n",
      "[351]\tvalidation_0-auc:0.955544\tvalidation_1-auc:0.933511\n",
      "[352]\tvalidation_0-auc:0.955577\tvalidation_1-auc:0.933511\n",
      "[353]\tvalidation_0-auc:0.956046\tvalidation_1-auc:0.933841\n",
      "[354]\tvalidation_0-auc:0.956046\tvalidation_1-auc:0.933841\n",
      "[355]\tvalidation_0-auc:0.956096\tvalidation_1-auc:0.933908\n",
      "[356]\tvalidation_0-auc:0.956096\tvalidation_1-auc:0.933908\n",
      "[357]\tvalidation_0-auc:0.956184\tvalidation_1-auc:0.933946\n",
      "[358]\tvalidation_0-auc:0.956184\tvalidation_1-auc:0.933946\n",
      "[359]\tvalidation_0-auc:0.956184\tvalidation_1-auc:0.933946\n",
      "[360]\tvalidation_0-auc:0.956184\tvalidation_1-auc:0.933946\n",
      "[361]\tvalidation_0-auc:0.956201\tvalidation_1-auc:0.93394\n",
      "[362]\tvalidation_0-auc:0.956215\tvalidation_1-auc:0.933922\n",
      "[363]\tvalidation_0-auc:0.956215\tvalidation_1-auc:0.933922\n",
      "[364]\tvalidation_0-auc:0.956208\tvalidation_1-auc:0.933916\n",
      "[365]\tvalidation_0-auc:0.956208\tvalidation_1-auc:0.933916\n",
      "[366]\tvalidation_0-auc:0.956258\tvalidation_1-auc:0.933921\n",
      "[367]\tvalidation_0-auc:0.956286\tvalidation_1-auc:0.93393\n",
      "Stopping. Best iteration:\n",
      "[357]\tvalidation_0-auc:0.956184\tvalidation_1-auc:0.933946\n",
      "\n"
     ]
    },
    {
     "data": {
      "text/plain": [
       "XGBClassifier(base_score=0.5, booster='gbtree', colsample_bylevel=1,\n",
       "       colsample_bynode=1, colsample_bytree=0.95, gamma=10,\n",
       "       learning_rate=0.1, max_delta_step=0, max_depth=7,\n",
       "       min_child_weight=1, missing=None, n_estimators=450, n_jobs=4,\n",
       "       nthread=None, objective='binary:logistic', random_state=0,\n",
       "       reg_alpha=0.25, reg_lambda=1, scale_pos_weight=1, seed=None,\n",
       "       silent=None, subsample=0.9, verbosity=1)"
      ]
     },
     "execution_count": 109,
     "metadata": {},
     "output_type": "execute_result"
    }
   ],
   "source": [
    "xgb_clf.fit(X_train, y_train, eval_set=[(X_train, y_train), (X_test, y_test)], eval_metric='auc', early_stopping_rounds=10, verbose=True)\n",
    "\n"
   ]
  },
  {
   "cell_type": "code",
   "execution_count": 116,
   "metadata": {},
   "outputs": [
    {
     "data": {
      "text/plain": [
       "XGBClassifier(base_score=0.5, booster='gbtree', colsample_bylevel=1,\n",
       "       colsample_bynode=1, colsample_bytree=0.95, gamma=5,\n",
       "       learning_rate=0.1, max_delta_step=0, max_depth=9,\n",
       "       min_child_weight=1, missing=None, n_estimators=350, n_jobs=4,\n",
       "       nthread=None, objective='binary:logistic', random_state=0,\n",
       "       reg_alpha=0, reg_lambda=1.2, scale_pos_weight=1, seed=None,\n",
       "       silent=None, subsample=0.9, verbosity=1)"
      ]
     },
     "execution_count": 116,
     "metadata": {},
     "output_type": "execute_result"
    }
   ],
   "source": [
    "xgb_clf2 = XGBClassifier(n_estimators=350, max_depth=9, n_jobs=4, subsample=.9, colsample_bytree=.95, gamma=5, reg_lambda=1.2)\n",
    "\n",
    "xgb_clf2.fit(df2[cols], df2['isFraud'], verbose=True)\n",
    "\n"
   ]
  },
  {
   "cell_type": "code",
   "execution_count": 86,
   "metadata": {},
   "outputs": [],
   "source": [
    "df2['preds'] = xgb_clf.predict_proba(df2[cols])[:, 1]"
   ]
  },
  {
   "cell_type": "code",
   "execution_count": 87,
   "metadata": {},
   "outputs": [],
   "source": [
    "from sklearn.metrics import auc, roc_curve"
   ]
  },
  {
   "cell_type": "code",
   "execution_count": 88,
   "metadata": {},
   "outputs": [],
   "source": [
    "fpr, tpr, thresholds= roc_curve(df2['isFraud'], df2['preds'])"
   ]
  },
  {
   "cell_type": "code",
   "execution_count": 89,
   "metadata": {},
   "outputs": [],
   "source": [
    "import matplotlib.pyplot as plt\n",
    "%matplotlib inline"
   ]
  },
  {
   "cell_type": "code",
   "execution_count": 90,
   "metadata": {},
   "outputs": [
    {
     "data": {
      "text/plain": [
       "[<matplotlib.lines.Line2D at 0x1bc6ddc50>]"
      ]
     },
     "execution_count": 90,
     "metadata": {},
     "output_type": "execute_result"
    },
    {
     "data": {
      "image/png": "[encoded data removed]",
      "text/plain": [
       "<Figure size 432x288 with 1 Axes>"
      ]
     },
     "metadata": {},
     "output_type": "display_data"
    }
   ],
   "source": [
    "plt.plot(fpr, tpr)"
   ]
  },
  {
   "cell_type": "code",
   "execution_count": 91,
   "metadata": {},
   "outputs": [
    {
     "data": {
      "text/plain": [
       "0.962035223070915"
      ]
     },
     "execution_count": 91,
     "metadata": {},
     "output_type": "execute_result"
    }
   ],
   "source": [
    "auc(fpr, tpr)"
   ]
  },
  {
   "cell_type": "code",
   "execution_count": 84,
   "metadata": {},
   "outputs": [],
   "source": [
    "test = pd.read_csv('test_transaction.csv')"
   ]
  },
  {
   "cell_type": "code",
   "execution_count": 85,
   "metadata": {},
   "outputs": [],
   "source": [
    "test_id = pd.read_csv('test_identity.csv')"
   ]
  },
  {
   "cell_type": "code",
   "execution_count": 92,
   "metadata": {},
   "outputs": [],
   "source": [
    "test = pd.merge(test, test_id, how='left', on='TransactionID')"
   ]
  },
  {
   "cell_type": "code",
   "execution_count": 93,
   "metadata": {},
   "outputs": [],
   "source": [
    "#Dealing with NA\n",
    "test.fillna(0, inplace=True)\n",
    "#Variable Creation\n",
    "test['has_r'] = (pd.notna(test['R_emaildomain'])).astype(int)\n",
    "test['different_r'] = (test['has_r']) * (test.P_emaildomain == test.R_emaildomain).astype(int)\n",
    "test['is_discover'] = (test.card4=='discover').astype(int)\n",
    "test['is_credit'] = (test.card6=='credit').astype(int)\n",
    "test['is_sketchy_addr2'] = (test.addr2.isin([0,60,96]))\n",
    "test['is_na_M1'] = (test['M1']==0).astype(int)\n",
    "test['is_na_M2'] = (test['M2']==0).astype(int)\n",
    "test['is_na_M3'] = (test['M3']==0).astype(int)\n",
    "test['is_na_M5'] = (test['M5']==0).astype(int)\n",
    "test['is_na_M6'] = (test['M6']==0).astype(int)\n",
    "test['is_na_M7'] = (test['M7']==0).astype(int)\n",
    "test['is_na_M8'] = (test['M8']==0).astype(int)\n",
    "test['is_na_M9'] = (test['M9']==0).astype(int)\n",
    "test['is_big_NA'] = test['is_na_M1']*test['is_na_M2']*test['is_na_M3']*test['is_na_M5']*test['is_na_M6']*test['is_na_M7']*test['is_na_M8']*test['is_na_M9']\n",
    "test['is_C'] = (test.ProductCD=='C').astype(int)\n",
    "test['is_S'] = (test.ProductCD=='S').astype(int)\n",
    "test['is_H'] = (test.ProductCD=='H').astype(int)\n",
    "test['is_mobile'] = (test.DeviceType=='mobile').astype(int)\n",
    "test['is_sketchy_device'] = (test.DeviceInfo.isin(sketchy_devices)).astype(int)\n",
    "test['is_sketchy_browser'] = (test.id_31.isin(sketchy_browser)).astype(int)\n",
    "test['is_protonmail'] = (test.P_emaildomain=='protonmail.com').astype(int)\n",
    "test['is_elsewise_sketchy_email'] = (test.P_emaildomain.isin(['mail.com', 'outlook.es', 'aim.com', 'outlook.com']))\n",
    "test['is_match'] = (test.id_34=='match_status:1').astype(int)\n",
    "test['is_M4M2'] = (test['M4']=='M2').astype(int)\n",
    "test['is_M3'] = (test['M3']=='T').astype(int)\n",
    "test['is_M2'] = (test['M2']=='T').astype(int)\n",
    "test['is_M9'] = (test['M9']=='T').astype(int)\n",
    "test['is_no_info'] = (test.DeviceType==0).astype(int)\n"
   ]
  },
  {
   "cell_type": "code",
   "execution_count": 110,
   "metadata": {},
   "outputs": [],
   "source": [
    "smaller_v_test = pd.DataFrame(pca1.transform(test[pcaCols])[:, 0:40])\n",
    "smaller_v_test.columns = ['pca_'+str(a) for a in smaller_v_test.columns]"
   ]
  },
  {
   "cell_type": "code",
   "execution_count": 111,
   "metadata": {},
   "outputs": [],
   "source": [
    "test2 = pd.concat([test, smaller_v_test], axis=1)"
   ]
  },
  {
   "cell_type": "code",
   "execution_count": 117,
   "metadata": {},
   "outputs": [],
   "source": [
    "test2['preds'] = xgb_clf2.predict_proba(test2[cols])[:, 1]"
   ]
  },
  {
   "cell_type": "code",
   "execution_count": 118,
   "metadata": {},
   "outputs": [],
   "source": [
    "submission_df = pd.DataFrame({'TransactionID':test2['TransactionID'], 'isFraud': test2['preds']})"
   ]
  },
  {
   "cell_type": "code",
   "execution_count": 119,
   "metadata": {},
   "outputs": [],
   "source": [
    "submission_df.to_csv('submission_5.csv', index=False)"
   ]
  },
  {
   "cell_type": "code",
   "execution_count": null,
   "metadata": {},
   "outputs": [],
   "source": []
  }
 ],
 "metadata": {
  "kernelspec": {
   "display_name": "Python 3",
   "language": "python",
   "name": "python3"
  },
  "language_info": {
   "codemirror_mode": {
    "name": "ipython",
    "version": 3
   },
   "file_extension": ".py",
   "mimetype": "text/x-python",
   "name": "python",
   "nbconvert_exporter": "python",
   "pygments_lexer": "ipython3",
   "version": "3.6.5"
  }
 },
 "nbformat": 4,
 "nbformat_minor": 2
}
