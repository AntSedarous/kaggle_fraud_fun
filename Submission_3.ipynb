{
 "cells": [
  {
   "cell_type": "code",
   "execution_count": 2,
   "metadata": {},
   "outputs": [],
   "source": [
    "import pandas as pd\n",
    "import numpy as np"
   ]
  },
  {
   "cell_type": "code",
   "execution_count": 3,
   "metadata": {},
   "outputs": [],
   "source": [
    "df = pd.read_csv('train_transaction.csv')"
   ]
  },
  {
   "cell_type": "code",
   "execution_count": 4,
   "metadata": {},
   "outputs": [],
   "source": [
    "df_id = pd.read_csv('train_identity.csv')"
   ]
  },
  {
   "cell_type": "code",
   "execution_count": 5,
   "metadata": {},
   "outputs": [],
   "source": [
    "df = pd.merge(df, df_id, how='left', on='TransactionID')"
   ]
  },
  {
   "cell_type": "code",
   "execution_count": 6,
   "metadata": {},
   "outputs": [
    {
     "data": {
      "text/html": [
       "<div>\n",
       "<style scoped>\n",
       "    .dataframe tbody tr th:only-of-type {\n",
       "        vertical-align: middle;\n",
       "    }\n",
       "\n",
       "    .dataframe tbody tr th {\n",
       "        vertical-align: top;\n",
       "    }\n",
       "\n",
       "    .dataframe thead th {\n",
       "        text-align: right;\n",
       "    }\n",
       "</style>\n",
       "<table border=\"1\" class=\"dataframe\">\n",
       "  <thead>\n",
       "    <tr style=\"text-align: right;\">\n",
       "      <th></th>\n",
       "      <th>TransactionID</th>\n",
       "      <th>isFraud</th>\n",
       "      <th>TransactionDT</th>\n",
       "      <th>TransactionAmt</th>\n",
       "      <th>ProductCD</th>\n",
       "      <th>card1</th>\n",
       "      <th>card2</th>\n",
       "      <th>card3</th>\n",
       "      <th>card4</th>\n",
       "      <th>card5</th>\n",
       "      <th>...</th>\n",
       "      <th>id_31</th>\n",
       "      <th>id_32</th>\n",
       "      <th>id_33</th>\n",
       "      <th>id_34</th>\n",
       "      <th>id_35</th>\n",
       "      <th>id_36</th>\n",
       "      <th>id_37</th>\n",
       "      <th>id_38</th>\n",
       "      <th>DeviceType</th>\n",
       "      <th>DeviceInfo</th>\n",
       "    </tr>\n",
       "  </thead>\n",
       "  <tbody>\n",
       "    <tr>\n",
       "      <th>0</th>\n",
       "      <td>2987000</td>\n",
       "      <td>0</td>\n",
       "      <td>86400</td>\n",
       "      <td>68.5</td>\n",
       "      <td>W</td>\n",
       "      <td>13926</td>\n",
       "      <td>NaN</td>\n",
       "      <td>150.0</td>\n",
       "      <td>discover</td>\n",
       "      <td>142.0</td>\n",
       "      <td>...</td>\n",
       "      <td>NaN</td>\n",
       "      <td>NaN</td>\n",
       "      <td>NaN</td>\n",
       "      <td>NaN</td>\n",
       "      <td>NaN</td>\n",
       "      <td>NaN</td>\n",
       "      <td>NaN</td>\n",
       "      <td>NaN</td>\n",
       "      <td>NaN</td>\n",
       "      <td>NaN</td>\n",
       "    </tr>\n",
       "    <tr>\n",
       "      <th>1</th>\n",
       "      <td>2987001</td>\n",
       "      <td>0</td>\n",
       "      <td>86401</td>\n",
       "      <td>29.0</td>\n",
       "      <td>W</td>\n",
       "      <td>2755</td>\n",
       "      <td>404.0</td>\n",
       "      <td>150.0</td>\n",
       "      <td>mastercard</td>\n",
       "      <td>102.0</td>\n",
       "      <td>...</td>\n",
       "      <td>NaN</td>\n",
       "      <td>NaN</td>\n",
       "      <td>NaN</td>\n",
       "      <td>NaN</td>\n",
       "      <td>NaN</td>\n",
       "      <td>NaN</td>\n",
       "      <td>NaN</td>\n",
       "      <td>NaN</td>\n",
       "      <td>NaN</td>\n",
       "      <td>NaN</td>\n",
       "    </tr>\n",
       "    <tr>\n",
       "      <th>2</th>\n",
       "      <td>2987002</td>\n",
       "      <td>0</td>\n",
       "      <td>86469</td>\n",
       "      <td>59.0</td>\n",
       "      <td>W</td>\n",
       "      <td>4663</td>\n",
       "      <td>490.0</td>\n",
       "      <td>150.0</td>\n",
       "      <td>visa</td>\n",
       "      <td>166.0</td>\n",
       "      <td>...</td>\n",
       "      <td>NaN</td>\n",
       "      <td>NaN</td>\n",
       "      <td>NaN</td>\n",
       "      <td>NaN</td>\n",
       "      <td>NaN</td>\n",
       "      <td>NaN</td>\n",
       "      <td>NaN</td>\n",
       "      <td>NaN</td>\n",
       "      <td>NaN</td>\n",
       "      <td>NaN</td>\n",
       "    </tr>\n",
       "    <tr>\n",
       "      <th>3</th>\n",
       "      <td>2987003</td>\n",
       "      <td>0</td>\n",
       "      <td>86499</td>\n",
       "      <td>50.0</td>\n",
       "      <td>W</td>\n",
       "      <td>18132</td>\n",
       "      <td>567.0</td>\n",
       "      <td>150.0</td>\n",
       "      <td>mastercard</td>\n",
       "      <td>117.0</td>\n",
       "      <td>...</td>\n",
       "      <td>NaN</td>\n",
       "      <td>NaN</td>\n",
       "      <td>NaN</td>\n",
       "      <td>NaN</td>\n",
       "      <td>NaN</td>\n",
       "      <td>NaN</td>\n",
       "      <td>NaN</td>\n",
       "      <td>NaN</td>\n",
       "      <td>NaN</td>\n",
       "      <td>NaN</td>\n",
       "    </tr>\n",
       "    <tr>\n",
       "      <th>4</th>\n",
       "      <td>2987004</td>\n",
       "      <td>0</td>\n",
       "      <td>86506</td>\n",
       "      <td>50.0</td>\n",
       "      <td>H</td>\n",
       "      <td>4497</td>\n",
       "      <td>514.0</td>\n",
       "      <td>150.0</td>\n",
       "      <td>mastercard</td>\n",
       "      <td>102.0</td>\n",
       "      <td>...</td>\n",
       "      <td>samsung browser 6.2</td>\n",
       "      <td>32.0</td>\n",
       "      <td>2220x1080</td>\n",
       "      <td>match_status:2</td>\n",
       "      <td>T</td>\n",
       "      <td>F</td>\n",
       "      <td>T</td>\n",
       "      <td>T</td>\n",
       "      <td>mobile</td>\n",
       "      <td>SAMSUNG SM-G892A Build/NRD90M</td>\n",
       "    </tr>\n",
       "  </tbody>\n",
       "</table>\n",
       "<p>5 rows × 434 columns</p>\n",
       "</div>"
      ],
      "text/plain": [
       "   TransactionID  isFraud  TransactionDT  TransactionAmt ProductCD  card1  \\\n",
       "0        2987000        0          86400            68.5         W  13926   \n",
       "1        2987001        0          86401            29.0         W   2755   \n",
       "2        2987002        0          86469            59.0         W   4663   \n",
       "3        2987003        0          86499            50.0         W  18132   \n",
       "4        2987004        0          86506            50.0         H   4497   \n",
       "\n",
       "   card2  card3       card4  card5              ...                \\\n",
       "0    NaN  150.0    discover  142.0              ...                 \n",
       "1  404.0  150.0  mastercard  102.0              ...                 \n",
       "2  490.0  150.0        visa  166.0              ...                 \n",
       "3  567.0  150.0  mastercard  117.0              ...                 \n",
       "4  514.0  150.0  mastercard  102.0              ...                 \n",
       "\n",
       "                 id_31  id_32      id_33           id_34  id_35 id_36 id_37  \\\n",
       "0                  NaN    NaN        NaN             NaN    NaN   NaN   NaN   \n",
       "1                  NaN    NaN        NaN             NaN    NaN   NaN   NaN   \n",
       "2                  NaN    NaN        NaN             NaN    NaN   NaN   NaN   \n",
       "3                  NaN    NaN        NaN             NaN    NaN   NaN   NaN   \n",
       "4  samsung browser 6.2   32.0  2220x1080  match_status:2      T     F     T   \n",
       "\n",
       "   id_38  DeviceType                     DeviceInfo  \n",
       "0    NaN         NaN                            NaN  \n",
       "1    NaN         NaN                            NaN  \n",
       "2    NaN         NaN                            NaN  \n",
       "3    NaN         NaN                            NaN  \n",
       "4      T      mobile  SAMSUNG SM-G892A Build/NRD90M  \n",
       "\n",
       "[5 rows x 434 columns]"
      ]
     },
     "execution_count": 6,
     "metadata": {},
     "output_type": "execute_result"
    }
   ],
   "source": [
    "df.head()"
   ]
  },
  {
   "cell_type": "code",
   "execution_count": 7,
   "metadata": {},
   "outputs": [],
   "source": [
    "sketchy_devices = list(df.groupby('DeviceInfo').isFraud.agg([np.mean, len]).query('len>10').query('mean>.5').index)"
   ]
  },
  {
   "cell_type": "code",
   "execution_count": 8,
   "metadata": {},
   "outputs": [],
   "source": [
    "sketchy_browser = list(df.groupby('id_31').isFraud.agg([np.mean, len]).query('len>10').query('mean>.15').index)"
   ]
  },
  {
   "cell_type": "code",
   "execution_count": 9,
   "metadata": {},
   "outputs": [],
   "source": [
    "#Dealing with NA\n",
    "df.fillna(0, inplace=True)\n",
    "#Variable Creation\n",
    "df['has_r'] = (pd.notna(df['R_emaildomain'])).astype(int)\n",
    "df['different_r'] = (df['has_r']) * (df.P_emaildomain == df.R_emaildomain).astype(int)\n",
    "df['is_discover'] = (df.card4=='discover').astype(int)\n",
    "df['is_credit'] = (df.card6=='credit').astype(int)\n",
    "df['is_sketchy_addr2'] = (df.addr2.isin([0,60,96]))\n",
    "df['is_na_M1'] = (df['M1']==0).astype(int)\n",
    "df['is_na_M2'] = (df['M2']==0).astype(int)\n",
    "df['is_na_M3'] = (df['M3']==0).astype(int)\n",
    "df['is_na_M5'] = (df['M5']==0).astype(int)\n",
    "df['is_na_M6'] = (df['M6']==0).astype(int)\n",
    "df['is_na_M7'] = (df['M7']==0).astype(int)\n",
    "df['is_na_M8'] = (df['M8']==0).astype(int)\n",
    "df['is_na_M9'] = (df['M9']==0).astype(int)\n",
    "df['is_big_NA'] = df['is_na_M1']*df['is_na_M2']*df['is_na_M3']*df['is_na_M5']*df['is_na_M6']*df['is_na_M7']*df['is_na_M8']*df['is_na_M9']\n",
    "df['is_C'] = (df.ProductCD=='C').astype(int)\n",
    "df['is_S'] = (df.ProductCD=='S').astype(int)\n",
    "df['is_H'] = (df.ProductCD=='H').astype(int)\n",
    "df['is_mobile'] = (df.DeviceType=='mobile').astype(int)\n",
    "df['is_sketchy_device'] = (df.DeviceInfo.isin(sketchy_devices)).astype(int)\n",
    "df['is_sketchy_browser'] = (df.id_31.isin(sketchy_browser)).astype(int)\n",
    "df['is_protonmail'] = (df.P_emaildomain=='protonmail.com').astype(int)\n",
    "df['is_elsewise_sketchy_email'] = (df.P_emaildomain.isin(['mail.com', 'outlook.es', 'aim.com', 'outlook.com']))\n",
    "df['is_match'] = (df.id_34=='match_status:1').astype(int)\n",
    "df['is_M4M2'] = (df['M4']=='M2').astype(int)\n",
    "df['is_M3'] = (df['M3']=='T').astype(int)\n",
    "df['is_M2'] = (df['M2']=='T').astype(int)\n",
    "df['is_M9'] = (df['M9']=='T').astype(int)\n",
    "df['is_no_info'] = (df.DeviceType==0).astype(int)\n"
   ]
  },
  {
   "cell_type": "code",
   "execution_count": 10,
   "metadata": {},
   "outputs": [],
   "source": [
    "#Column Selection\n",
    "def colSelect(cols):\n",
    "    output = []\n",
    "    for col in cols:\n",
    "        if col in ['isFraud', 'DeviceType', 'DeviceInfo']:\n",
    "            output.append(False)\n",
    "        elif col[0]=='C':\n",
    "            output.append(True)\n",
    "        elif col[0]=='V':\n",
    "            output.append(True)\n",
    "        elif col[0]=='D':\n",
    "            output.append(True)\n",
    "        elif col in ['has_r', 'different_r', 'dist1', 'dist2', 'card1', 'card2', 'card3', 'card5', 'TransactionAmt']:\n",
    "            output.append(True)\n",
    "        elif col[0:2]=='is':\n",
    "            output.append(True)\n",
    "        else:\n",
    "            output.append(False)\n",
    "    return(output)"
   ]
  },
  {
   "cell_type": "code",
   "execution_count": 11,
   "metadata": {},
   "outputs": [],
   "source": [
    "cols = df.columns[colSelect(df.columns)]"
   ]
  },
  {
   "cell_type": "code",
   "execution_count": 12,
   "metadata": {},
   "outputs": [],
   "source": [
    "from xgboost import XGBClassifier"
   ]
  },
  {
   "cell_type": "code",
   "execution_count": 37,
   "metadata": {},
   "outputs": [],
   "source": [
    "xgb1 = XGBClassifier(n_estimators=300, max_depth=7, n_jobs=4, subsample=.8, colsample_bytree=.8)"
   ]
  },
  {
   "cell_type": "code",
   "execution_count": 38,
   "metadata": {},
   "outputs": [
    {
     "data": {
      "text/plain": [
       "XGBClassifier(base_score=0.5, booster='gbtree', colsample_bylevel=1,\n",
       "       colsample_bynode=1, colsample_bytree=0.8, gamma=0,\n",
       "       learning_rate=0.1, max_delta_step=0, max_depth=7,\n",
       "       min_child_weight=1, missing=None, n_estimators=300, n_jobs=4,\n",
       "       nthread=None, objective='binary:logistic', random_state=0,\n",
       "       reg_alpha=0, reg_lambda=1, scale_pos_weight=1, seed=None,\n",
       "       silent=None, subsample=0.8, verbosity=1)"
      ]
     },
     "execution_count": 38,
     "metadata": {},
     "output_type": "execute_result"
    }
   ],
   "source": [
    "xgb1.fit(df[cols], df['isFraud'])"
   ]
  },
  {
   "cell_type": "code",
   "execution_count": 53,
   "metadata": {},
   "outputs": [
    {
     "data": {
      "text/plain": [
       "array([1.6649863e-03, 1.5977294e-03, 1.7033510e-03, 3.9484408e-03,\n",
       "       1.3895457e-03, 1.6274889e-03, 1.0199494e-03, 4.6483534e-03,\n",
       "       2.0000793e-03, 1.8907618e-03, 3.9064768e-03, 1.6057119e-03,\n",
       "       2.2474749e-03, 5.7711075e-03, 4.6683778e-03, 2.0326565e-03,\n",
       "       1.9337349e-03, 4.2130174e-03, 3.6387027e-03, 3.1851910e-03,\n",
       "       8.3972365e-03, 1.6059267e-03, 3.4430129e-03, 2.0216843e-03,\n",
       "       1.6840443e-03, 6.8784668e-04, 1.1992846e-03, 7.1213808e-04,\n",
       "       1.3447029e-03, 7.3197944e-04, 1.4774438e-03, 1.3465590e-03,\n",
       "       1.1877771e-03, 1.4769267e-03, 7.7617262e-04, 1.8010284e-03,\n",
       "       4.1075598e-04, 1.0387358e-03, 8.3598605e-04, 8.9297758e-04,\n",
       "       1.0639889e-03, 1.2993731e-03, 1.0663976e-03, 1.4750245e-03,\n",
       "       1.2396410e-03, 8.4791647e-04, 8.4326026e-04, 2.7034853e-03,\n",
       "       2.1047594e-03, 7.5890892e-04, 4.0493500e-03, 8.8786118e-04,\n",
       "       1.4448565e-03, 1.1075083e-03, 1.4036953e-03, 1.8481632e-03,\n",
       "       2.6736497e-03, 4.5058457e-03, 7.8229769e-04, 1.4259341e-03,\n",
       "       9.2044222e-04, 1.6933624e-03, 0.0000000e+00, 0.0000000e+00,\n",
       "       3.7474448e-03, 1.4410579e-03, 1.0872503e-03, 1.2893290e-03,\n",
       "       2.6118821e-03, 1.8570138e-03, 1.5627705e-03, 1.1141868e-03,\n",
       "       9.8175532e-04, 1.9241543e-03, 8.1928261e-04, 1.7836314e-03,\n",
       "       0.0000000e+00, 1.1994849e-03, 8.4885524e-04, 8.2596223e-04,\n",
       "       6.3472702e-03, 9.2307810e-04, 9.7626366e-04, 4.1621043e-03,\n",
       "       1.7985458e-03, 6.1487011e-04, 1.1567203e-03, 1.1251948e-03,\n",
       "       2.3636306e-03, 1.6688496e-03, 2.5747586e-03, 2.3267386e-03,\n",
       "       6.5122580e-04, 8.4374362e-04, 2.0181530e-03, 1.2754339e-03,\n",
       "       2.0082539e-03, 4.0363530e-03, 1.7079491e-03, 1.1077694e-03,\n",
       "       5.0641531e-03, 1.4078108e-03, 2.1306446e-03, 0.0000000e+00,\n",
       "       1.8563077e-03, 2.8646685e-02, 2.9956046e-03, 4.8988853e-03,\n",
       "       2.6342284e-03, 1.7062977e-03, 1.6712149e-03, 2.0545397e-03,\n",
       "       1.2308953e-03, 1.3958723e-03, 1.5049288e-03, 5.1576772e-04,\n",
       "       1.1098093e-03, 2.2006037e-03, 2.3596133e-03, 5.7441683e-04,\n",
       "       1.3747956e-03, 1.0670965e-03, 2.4457138e-03, 1.5970980e-03,\n",
       "       0.0000000e+00, 1.1838215e-03, 3.0025775e-02, 1.2365559e-03,\n",
       "       3.7889578e-03, 2.1695916e-03, 6.3340703e-04, 9.8859437e-04,\n",
       "       1.0837511e-03, 1.1587093e-03, 1.5316724e-03, 2.4522927e-03,\n",
       "       4.4989906e-04, 2.6001995e-03, 9.1507769e-04, 4.9746002e-04,\n",
       "       1.7424605e-03, 9.4400730e-04, 0.0000000e+00, 7.4092287e-04,\n",
       "       2.0375145e-03, 4.6416739e-04, 1.4535279e-03, 1.9726087e-03,\n",
       "       0.0000000e+00, 5.6668284e-04, 2.4199581e-03, 3.1571975e-04,\n",
       "       6.3354714e-04, 1.0063574e-03, 0.0000000e+00, 1.9337807e-04,\n",
       "       7.9121551e-04, 1.8714520e-03, 9.9464809e-04, 1.1593549e-03,\n",
       "       7.1035040e-04, 1.0747544e-03, 7.6664839e-04, 1.5047935e-03,\n",
       "       1.1401216e-03, 1.3530285e-03, 1.5673325e-03, 7.0097711e-04,\n",
       "       1.6625908e-03, 2.1949154e-03, 6.8750553e-04, 1.4853700e-03,\n",
       "       1.1765409e-03, 1.5875658e-04, 9.2114072e-04, 7.4579276e-04,\n",
       "       2.6068361e-03, 0.0000000e+00, 2.1757754e-03, 3.6499140e-04,\n",
       "       9.8764210e-04, 1.2170025e-03, 1.2506576e-03, 8.1191072e-04,\n",
       "       6.6352789e-03, 3.6442284e-03, 4.6569873e-03, 2.8150494e-03,\n",
       "       2.9162033e-03, 1.9280228e-03, 5.0163246e-04, 6.8934429e-03,\n",
       "       3.4712581e-04, 6.8272895e-04, 7.0978416e-04, 9.4925222e-04,\n",
       "       1.4742044e-03, 2.1236548e-03, 2.2051989e-03, 1.3573590e-03,\n",
       "       2.8527007e-03, 4.8706893e-04, 1.7021303e-03, 8.2241971e-04,\n",
       "       2.0134316e-03, 9.2424528e-04, 7.3865760e-04, 1.9098227e-03,\n",
       "       5.0456735e-04, 6.6931342e-04, 6.1863796e-03, 8.7228836e-04,\n",
       "       2.0631334e-04, 6.4601691e-04, 9.9006796e-04, 1.3049357e-03,\n",
       "       3.0684887e-04, 1.2730442e-03, 1.2033650e-03, 9.2463876e-04,\n",
       "       2.7951773e-03, 8.6463877e-04, 3.2759516e-03, 7.1218922e-03,\n",
       "       8.9901714e-03, 1.1572983e-03, 1.9885758e-03, 2.2342342e-03,\n",
       "       2.2329916e-03, 5.6544626e-03, 2.9768324e-03, 1.2998934e-03,\n",
       "       2.9435377e-03, 1.8613939e-03, 3.5884476e-04, 1.2474438e-03,\n",
       "       5.5494614e-02, 6.9461489e-04, 7.1730424e-04, 5.7037518e-04,\n",
       "       1.1317006e-03, 9.8301261e-04, 1.9094462e-03, 1.1932605e-03,\n",
       "       2.1915054e-03, 2.2382119e-03, 1.2423855e-03, 9.6415641e-04,\n",
       "       1.0009210e-03, 7.2522950e-04, 1.2371822e-03, 1.3293643e-03,\n",
       "       1.9577728e-03, 4.7875676e-04, 3.3354368e-03, 1.7002468e-03,\n",
       "       7.5097429e-04, 6.6978892e-04, 1.9563148e-03, 2.3316531e-03,\n",
       "       8.2102492e-03, 2.0509269e-03, 1.9304856e-03, 1.0154940e-03,\n",
       "       6.2958355e-04, 5.0787249e-04, 3.9759200e-04, 6.4892176e-04,\n",
       "       1.4790287e-03, 7.9622818e-04, 1.1482616e-03, 1.0978489e-03,\n",
       "       4.7286772e-04, 8.0952392e-04, 8.2941679e-04, 0.0000000e+00,\n",
       "       0.0000000e+00, 9.2327886e-04, 8.2816003e-04, 8.6648054e-03,\n",
       "       1.6441755e-03, 1.8881854e-02, 1.0573287e-03, 1.8708640e-03,\n",
       "       1.8144724e-03, 9.5469714e-04, 3.1038718e-03, 5.4485914e-03,\n",
       "       7.5289153e-04, 1.9011566e-03, 3.9585179e-04, 2.0422195e-03,\n",
       "       8.8864425e-03, 1.3976792e-01, 1.0479830e-03, 6.4306433e-04,\n",
       "       1.2959791e-03, 3.2981019e-03, 8.2559453e-04, 5.7111192e-04,\n",
       "       6.9878960e-04, 1.5430187e-03, 8.8591169e-04, 8.2376515e-03,\n",
       "       3.7353279e-04, 9.9504599e-04, 1.2013135e-03, 1.0545539e-03,\n",
       "       1.2695247e-03, 2.5355362e-03, 1.1789293e-03, 5.1244069e-04,\n",
       "       1.3437641e-03, 1.4871985e-03, 1.4338976e-03, 1.2049852e-03,\n",
       "       3.0182789e-03, 1.4527524e-03, 4.3230909e-03, 6.9780723e-04,\n",
       "       1.6627311e-03, 2.3407894e-03, 1.0649147e-03, 9.7719068e-04,\n",
       "       2.5426820e-03, 6.1378378e-04, 1.2910446e-03, 8.5209700e-04,\n",
       "       1.8174530e-03, 1.3362994e-02, 5.9811822e-03, 4.7452338e-03,\n",
       "       6.3221320e-04, 2.0539283e-03, 9.5125759e-04, 1.0068754e-03,\n",
       "       1.3881389e-03, 6.6694140e-04, 6.6638360e-04, 1.2975994e-03,\n",
       "       0.0000000e+00, 6.3246384e-04, 1.2191449e-03, 3.7267059e-03,\n",
       "       1.0738947e-03, 1.5746587e-03, 1.0907141e-03, 2.9001727e-03,\n",
       "       1.7091746e-03, 1.8771269e-03, 2.5437376e-03, 9.5156231e-04,\n",
       "       5.4192645e-03, 1.9261315e-03, 9.2919322e-04, 1.9131793e-03,\n",
       "       8.4953429e-04, 4.9354043e-04, 4.5559979e-03, 5.3378092e-03,\n",
       "       0.0000000e+00, 4.2652329e-03, 9.3851611e-04, 8.6058152e-04,\n",
       "       1.4818127e-03, 1.7122657e-03, 1.6050373e-03, 5.5706943e-03,\n",
       "       3.6242025e-03, 7.7003706e-04, 2.5348205e-03, 1.3996492e-03,\n",
       "       0.0000000e+00, 1.6470222e-03, 1.4011600e-03, 0.0000000e+00,\n",
       "       4.0139356e-03, 2.7063761e-03, 4.4400278e-03, 1.1107633e-02,\n",
       "       1.1286903e-03, 0.0000000e+00, 0.0000000e+00, 2.4617943e-03,\n",
       "       1.3482760e-03, 1.3083152e-03, 8.8334852e-04, 0.0000000e+00,\n",
       "       1.2721468e-04, 1.3407138e-03, 3.0452113e-03, 3.1968581e-03,\n",
       "       2.1233647e-03, 1.1706195e-02, 2.2513797e-03, 2.0135371e-03,\n",
       "       1.7892600e-03, 1.2772491e-03, 1.4182684e-03, 1.7232343e-03,\n",
       "       1.2106503e-03, 7.5344625e-04, 1.4721798e-03], dtype=float32)"
      ]
     },
     "execution_count": 53,
     "metadata": {},
     "output_type": "execute_result"
    }
   ],
   "source": [
    "colname=[]\n",
    "imp=[]\n",
    "for a,b in zip(cols, xgb1.feature_importances_):\n",
    "    colname.append(a)\n",
    "    colname.append(b)"
   ]
  },
  {
   "cell_type": "code",
   "execution_count": 39,
   "metadata": {},
   "outputs": [],
   "source": [
    "df['preds'] = xgb1.predict_proba(df[cols])[:, 1]"
   ]
  },
  {
   "cell_type": "code",
   "execution_count": 40,
   "metadata": {},
   "outputs": [],
   "source": [
    "from sklearn.metrics import auc, roc_curve"
   ]
  },
  {
   "cell_type": "code",
   "execution_count": 41,
   "metadata": {},
   "outputs": [],
   "source": [
    "fpr, tpr, thresholds= roc_curve(df['isFraud'], df['preds'])"
   ]
  },
  {
   "cell_type": "code",
   "execution_count": 42,
   "metadata": {},
   "outputs": [],
   "source": [
    "import matplotlib.pyplot as plt\n",
    "%matplotlib inline"
   ]
  },
  {
   "cell_type": "code",
   "execution_count": 43,
   "metadata": {},
   "outputs": [
    {
     "data": {
      "text/plain": [
       "[<matplotlib.lines.Line2D at 0x204b7cddd8>]"
      ]
     },
     "execution_count": 43,
     "metadata": {},
     "output_type": "execute_result"
    },
    {
     "data": {
      "image/png": "[encoded data removed]",
      "text/plain": [
       "<Figure size 432x288 with 1 Axes>"
      ]
     },
     "metadata": {},
     "output_type": "display_data"
    }
   ],
   "source": [
    "plt.plot(fpr, tpr)"
   ]
  },
  {
   "cell_type": "code",
   "execution_count": 44,
   "metadata": {},
   "outputs": [
    {
     "data": {
      "text/plain": [
       "0.9643981327850172"
      ]
     },
     "execution_count": 44,
     "metadata": {},
     "output_type": "execute_result"
    }
   ],
   "source": [
    "auc(fpr, tpr)"
   ]
  },
  {
   "cell_type": "code",
   "execution_count": 45,
   "metadata": {},
   "outputs": [],
   "source": [
    "test = pd.read_csv('test_transaction.csv')"
   ]
  },
  {
   "cell_type": "code",
   "execution_count": 46,
   "metadata": {},
   "outputs": [],
   "source": [
    "test_id = pd.read_csv('test_identity.csv')"
   ]
  },
  {
   "cell_type": "code",
   "execution_count": 47,
   "metadata": {},
   "outputs": [],
   "source": [
    "test = pd.merge(test, test_id, how='left', on='TransactionID')"
   ]
  },
  {
   "cell_type": "code",
   "execution_count": 48,
   "metadata": {},
   "outputs": [],
   "source": [
    "#Dealing with NA\n",
    "test.fillna(0, inplace=True)\n",
    "#Variable Creation\n",
    "test['has_r'] = (pd.notna(test['R_emaildomain'])).astype(int)\n",
    "test['different_r'] = (test['has_r']) * (test.P_emaildomain == test.R_emaildomain).astype(int)\n",
    "test['is_discover'] = (test.card4=='discover').astype(int)\n",
    "test['is_credit'] = (test.card6=='credit').astype(int)\n",
    "test['is_sketchy_addr2'] = (test.addr2.isin([0,60,96]))\n",
    "test['is_na_M1'] = (test['M1']==0).astype(int)\n",
    "test['is_na_M2'] = (test['M2']==0).astype(int)\n",
    "test['is_na_M3'] = (test['M3']==0).astype(int)\n",
    "test['is_na_M5'] = (test['M5']==0).astype(int)\n",
    "test['is_na_M6'] = (test['M6']==0).astype(int)\n",
    "test['is_na_M7'] = (test['M7']==0).astype(int)\n",
    "test['is_na_M8'] = (test['M8']==0).astype(int)\n",
    "test['is_na_M9'] = (test['M9']==0).astype(int)\n",
    "test['is_big_NA'] = test['is_na_M1']*test['is_na_M2']*test['is_na_M3']*test['is_na_M5']*test['is_na_M6']*test['is_na_M7']*test['is_na_M8']*test['is_na_M9']\n",
    "test['is_C'] = (test.ProductCD=='C').astype(int)\n",
    "test['is_S'] = (test.ProductCD=='S').astype(int)\n",
    "test['is_H'] = (test.ProductCD=='H').astype(int)\n",
    "test['is_mobile'] = (test.DeviceType=='mobile').astype(int)\n",
    "test['is_sketchy_device'] = (test.DeviceInfo.isin(sketchy_devices)).astype(int)\n",
    "test['is_sketchy_browser'] = (test.id_31.isin(sketchy_browser)).astype(int)\n",
    "test['is_protonmail'] = (test.P_emaildomain=='protonmail.com').astype(int)\n",
    "test['is_elsewise_sketchy_email'] = (test.P_emaildomain.isin(['mail.com', 'outlook.es', 'aim.com', 'outlook.com']))\n",
    "test['is_match'] = (test.id_34=='match_status:1').astype(int)\n",
    "test['is_M4M2'] = (test['M4']=='M2').astype(int)\n",
    "test['is_M3'] = (test['M3']=='T').astype(int)\n",
    "test['is_M2'] = (test['M2']=='T').astype(int)\n",
    "test['is_M9'] = (test['M9']=='T').astype(int)\n",
    "test['is_no_info'] = (test.DeviceType==0).astype(int)\n"
   ]
  },
  {
   "cell_type": "code",
   "execution_count": 49,
   "metadata": {},
   "outputs": [],
   "source": [
    "test['preds'] = xgb1.predict_proba(test[cols])[:, 1]"
   ]
  },
  {
   "cell_type": "code",
   "execution_count": 50,
   "metadata": {},
   "outputs": [],
   "source": [
    "submission_df = pd.DataFrame({'TransactionID':test['TransactionID'], 'isFraud': test['preds']})"
   ]
  },
  {
   "cell_type": "code",
   "execution_count": 51,
   "metadata": {},
   "outputs": [],
   "source": [
    "submission_df.to_csv('submission_3.csv', index=False)"
   ]
  },
  {
   "cell_type": "code",
   "execution_count": null,
   "metadata": {},
   "outputs": [],
   "source": []
  }
 ],
 "metadata": {
  "kernelspec": {
   "display_name": "Python 3",
   "language": "python",
   "name": "python3"
  },
  "language_info": {
   "codemirror_mode": {
    "name": "ipython",
    "version": 3
   },
   "file_extension": ".py",
   "mimetype": "text/x-python",
   "name": "python",
   "nbconvert_exporter": "python",
   "pygments_lexer": "ipython3",
   "version": "3.6.5"
  }
 },
 "nbformat": 4,
 "nbformat_minor": 2
}
