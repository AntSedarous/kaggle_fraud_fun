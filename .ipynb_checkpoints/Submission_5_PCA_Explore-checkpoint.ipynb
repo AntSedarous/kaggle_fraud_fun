{
 "cells": [
  {
   "cell_type": "code",
   "execution_count": 1,
   "metadata": {},
   "outputs": [],
   "source": [
    "import pandas as pd\n",
    "import numpy as np"
   ]
  },
  {
   "cell_type": "code",
   "execution_count": 2,
   "metadata": {},
   "outputs": [],
   "source": [
    "df = pd.read_csv('train_transaction.csv')"
   ]
  },
  {
   "cell_type": "code",
   "execution_count": 3,
   "metadata": {},
   "outputs": [],
   "source": [
    "df_id = pd.read_csv('train_identity.csv')"
   ]
  },
  {
   "cell_type": "code",
   "execution_count": 4,
   "metadata": {},
   "outputs": [],
   "source": [
    "df = pd.merge(df, df_id, how='left', on='TransactionID')"
   ]
  },
  {
   "cell_type": "code",
   "execution_count": 5,
   "metadata": {},
   "outputs": [
    {
     "data": {
      "text/html": [
       "<div>\n",
       "<style scoped>\n",
       "    .dataframe tbody tr th:only-of-type {\n",
       "        vertical-align: middle;\n",
       "    }\n",
       "\n",
       "    .dataframe tbody tr th {\n",
       "        vertical-align: top;\n",
       "    }\n",
       "\n",
       "    .dataframe thead th {\n",
       "        text-align: right;\n",
       "    }\n",
       "</style>\n",
       "<table border=\"1\" class=\"dataframe\">\n",
       "  <thead>\n",
       "    <tr style=\"text-align: right;\">\n",
       "      <th></th>\n",
       "      <th>TransactionID</th>\n",
       "      <th>isFraud</th>\n",
       "      <th>TransactionDT</th>\n",
       "      <th>TransactionAmt</th>\n",
       "      <th>ProductCD</th>\n",
       "      <th>card1</th>\n",
       "      <th>card2</th>\n",
       "      <th>card3</th>\n",
       "      <th>card4</th>\n",
       "      <th>card5</th>\n",
       "      <th>...</th>\n",
       "      <th>id_31</th>\n",
       "      <th>id_32</th>\n",
       "      <th>id_33</th>\n",
       "      <th>id_34</th>\n",
       "      <th>id_35</th>\n",
       "      <th>id_36</th>\n",
       "      <th>id_37</th>\n",
       "      <th>id_38</th>\n",
       "      <th>DeviceType</th>\n",
       "      <th>DeviceInfo</th>\n",
       "    </tr>\n",
       "  </thead>\n",
       "  <tbody>\n",
       "    <tr>\n",
       "      <th>0</th>\n",
       "      <td>2987000</td>\n",
       "      <td>0</td>\n",
       "      <td>86400</td>\n",
       "      <td>68.5</td>\n",
       "      <td>W</td>\n",
       "      <td>13926</td>\n",
       "      <td>NaN</td>\n",
       "      <td>150.0</td>\n",
       "      <td>discover</td>\n",
       "      <td>142.0</td>\n",
       "      <td>...</td>\n",
       "      <td>NaN</td>\n",
       "      <td>NaN</td>\n",
       "      <td>NaN</td>\n",
       "      <td>NaN</td>\n",
       "      <td>NaN</td>\n",
       "      <td>NaN</td>\n",
       "      <td>NaN</td>\n",
       "      <td>NaN</td>\n",
       "      <td>NaN</td>\n",
       "      <td>NaN</td>\n",
       "    </tr>\n",
       "    <tr>\n",
       "      <th>1</th>\n",
       "      <td>2987001</td>\n",
       "      <td>0</td>\n",
       "      <td>86401</td>\n",
       "      <td>29.0</td>\n",
       "      <td>W</td>\n",
       "      <td>2755</td>\n",
       "      <td>404.0</td>\n",
       "      <td>150.0</td>\n",
       "      <td>mastercard</td>\n",
       "      <td>102.0</td>\n",
       "      <td>...</td>\n",
       "      <td>NaN</td>\n",
       "      <td>NaN</td>\n",
       "      <td>NaN</td>\n",
       "      <td>NaN</td>\n",
       "      <td>NaN</td>\n",
       "      <td>NaN</td>\n",
       "      <td>NaN</td>\n",
       "      <td>NaN</td>\n",
       "      <td>NaN</td>\n",
       "      <td>NaN</td>\n",
       "    </tr>\n",
       "    <tr>\n",
       "      <th>2</th>\n",
       "      <td>2987002</td>\n",
       "      <td>0</td>\n",
       "      <td>86469</td>\n",
       "      <td>59.0</td>\n",
       "      <td>W</td>\n",
       "      <td>4663</td>\n",
       "      <td>490.0</td>\n",
       "      <td>150.0</td>\n",
       "      <td>visa</td>\n",
       "      <td>166.0</td>\n",
       "      <td>...</td>\n",
       "      <td>NaN</td>\n",
       "      <td>NaN</td>\n",
       "      <td>NaN</td>\n",
       "      <td>NaN</td>\n",
       "      <td>NaN</td>\n",
       "      <td>NaN</td>\n",
       "      <td>NaN</td>\n",
       "      <td>NaN</td>\n",
       "      <td>NaN</td>\n",
       "      <td>NaN</td>\n",
       "    </tr>\n",
       "    <tr>\n",
       "      <th>3</th>\n",
       "      <td>2987003</td>\n",
       "      <td>0</td>\n",
       "      <td>86499</td>\n",
       "      <td>50.0</td>\n",
       "      <td>W</td>\n",
       "      <td>18132</td>\n",
       "      <td>567.0</td>\n",
       "      <td>150.0</td>\n",
       "      <td>mastercard</td>\n",
       "      <td>117.0</td>\n",
       "      <td>...</td>\n",
       "      <td>NaN</td>\n",
       "      <td>NaN</td>\n",
       "      <td>NaN</td>\n",
       "      <td>NaN</td>\n",
       "      <td>NaN</td>\n",
       "      <td>NaN</td>\n",
       "      <td>NaN</td>\n",
       "      <td>NaN</td>\n",
       "      <td>NaN</td>\n",
       "      <td>NaN</td>\n",
       "    </tr>\n",
       "    <tr>\n",
       "      <th>4</th>\n",
       "      <td>2987004</td>\n",
       "      <td>0</td>\n",
       "      <td>86506</td>\n",
       "      <td>50.0</td>\n",
       "      <td>H</td>\n",
       "      <td>4497</td>\n",
       "      <td>514.0</td>\n",
       "      <td>150.0</td>\n",
       "      <td>mastercard</td>\n",
       "      <td>102.0</td>\n",
       "      <td>...</td>\n",
       "      <td>samsung browser 6.2</td>\n",
       "      <td>32.0</td>\n",
       "      <td>2220x1080</td>\n",
       "      <td>match_status:2</td>\n",
       "      <td>T</td>\n",
       "      <td>F</td>\n",
       "      <td>T</td>\n",
       "      <td>T</td>\n",
       "      <td>mobile</td>\n",
       "      <td>SAMSUNG SM-G892A Build/NRD90M</td>\n",
       "    </tr>\n",
       "  </tbody>\n",
       "</table>\n",
       "<p>5 rows × 434 columns</p>\n",
       "</div>"
      ],
      "text/plain": [
       "   TransactionID  isFraud  TransactionDT  TransactionAmt ProductCD  card1  \\\n",
       "0        2987000        0          86400            68.5         W  13926   \n",
       "1        2987001        0          86401            29.0         W   2755   \n",
       "2        2987002        0          86469            59.0         W   4663   \n",
       "3        2987003        0          86499            50.0         W  18132   \n",
       "4        2987004        0          86506            50.0         H   4497   \n",
       "\n",
       "   card2  card3       card4  card5              ...                \\\n",
       "0    NaN  150.0    discover  142.0              ...                 \n",
       "1  404.0  150.0  mastercard  102.0              ...                 \n",
       "2  490.0  150.0        visa  166.0              ...                 \n",
       "3  567.0  150.0  mastercard  117.0              ...                 \n",
       "4  514.0  150.0  mastercard  102.0              ...                 \n",
       "\n",
       "                 id_31  id_32      id_33           id_34  id_35 id_36 id_37  \\\n",
       "0                  NaN    NaN        NaN             NaN    NaN   NaN   NaN   \n",
       "1                  NaN    NaN        NaN             NaN    NaN   NaN   NaN   \n",
       "2                  NaN    NaN        NaN             NaN    NaN   NaN   NaN   \n",
       "3                  NaN    NaN        NaN             NaN    NaN   NaN   NaN   \n",
       "4  samsung browser 6.2   32.0  2220x1080  match_status:2      T     F     T   \n",
       "\n",
       "   id_38  DeviceType                     DeviceInfo  \n",
       "0    NaN         NaN                            NaN  \n",
       "1    NaN         NaN                            NaN  \n",
       "2    NaN         NaN                            NaN  \n",
       "3    NaN         NaN                            NaN  \n",
       "4      T      mobile  SAMSUNG SM-G892A Build/NRD90M  \n",
       "\n",
       "[5 rows x 434 columns]"
      ]
     },
     "execution_count": 5,
     "metadata": {},
     "output_type": "execute_result"
    }
   ],
   "source": [
    "df.head()"
   ]
  },
  {
   "cell_type": "code",
   "execution_count": 6,
   "metadata": {},
   "outputs": [],
   "source": [
    "sketchy_devices = list(df.groupby('DeviceInfo').isFraud.agg([np.mean, len]).query('len>10').query('mean>.5').index)"
   ]
  },
  {
   "cell_type": "code",
   "execution_count": 7,
   "metadata": {},
   "outputs": [],
   "source": [
    "sketchy_browser = list(df.groupby('id_31').isFraud.agg([np.mean, len]).query('len>10').query('mean>.15').index)"
   ]
  },
  {
   "cell_type": "code",
   "execution_count": 8,
   "metadata": {},
   "outputs": [],
   "source": [
    "#Dealing with NA\n",
    "df.fillna(0, inplace=True)\n",
    "#Variable Creation\n",
    "df['has_r'] = (pd.notna(df['R_emaildomain'])).astype(int)\n",
    "df['different_r'] = (df['has_r']) * (df.P_emaildomain == df.R_emaildomain).astype(int)\n",
    "df['is_discover'] = (df.card4=='discover').astype(int)\n",
    "df['is_credit'] = (df.card6=='credit').astype(int)\n",
    "df['is_sketchy_addr2'] = (df.addr2.isin([0,60,96]))\n",
    "df['is_na_M1'] = (df['M1']==0).astype(int)\n",
    "df['is_na_M2'] = (df['M2']==0).astype(int)\n",
    "df['is_na_M3'] = (df['M3']==0).astype(int)\n",
    "df['is_na_M5'] = (df['M5']==0).astype(int)\n",
    "df['is_na_M6'] = (df['M6']==0).astype(int)\n",
    "df['is_na_M7'] = (df['M7']==0).astype(int)\n",
    "df['is_na_M8'] = (df['M8']==0).astype(int)\n",
    "df['is_na_M9'] = (df['M9']==0).astype(int)\n",
    "df['is_big_NA'] = df['is_na_M1']*df['is_na_M2']*df['is_na_M3']*df['is_na_M5']*df['is_na_M6']*df['is_na_M7']*df['is_na_M8']*df['is_na_M9']\n",
    "df['is_C'] = (df.ProductCD=='C').astype(int)\n",
    "df['is_S'] = (df.ProductCD=='S').astype(int)\n",
    "df['is_H'] = (df.ProductCD=='H').astype(int)\n",
    "df['is_mobile'] = (df.DeviceType=='mobile').astype(int)\n",
    "df['is_sketchy_device'] = (df.DeviceInfo.isin(sketchy_devices)).astype(int)\n",
    "df['is_sketchy_browser'] = (df.id_31.isin(sketchy_browser)).astype(int)\n",
    "df['is_protonmail'] = (df.P_emaildomain=='protonmail.com').astype(int)\n",
    "df['is_elsewise_sketchy_email'] = (df.P_emaildomain.isin(['mail.com', 'outlook.es', 'aim.com', 'outlook.com']))\n",
    "df['is_match'] = (df.id_34=='match_status:1').astype(int)\n",
    "df['is_M4M2'] = (df['M4']=='M2').astype(int)\n",
    "df['is_M3'] = (df['M3']=='T').astype(int)\n",
    "df['is_M2'] = (df['M2']=='T').astype(int)\n",
    "df['is_M9'] = (df['M9']=='T').astype(int)\n",
    "df['is_no_info'] = (df.DeviceType==0).astype(int)\n"
   ]
  },
  {
   "cell_type": "code",
   "execution_count": 9,
   "metadata": {},
   "outputs": [],
   "source": [
    "#Column Selection\n",
    "def colSelect(cols):\n",
    "    output = []\n",
    "    for col in cols:\n",
    "        if col in ['isFraud', 'DeviceType', 'DeviceInfo']:\n",
    "            output.append(False)\n",
    "        elif col[0]=='C':\n",
    "            output.append(True)\n",
    "        elif col[0]=='V':\n",
    "            output.append(True)\n",
    "        elif col[0]=='D':\n",
    "            output.append(True)\n",
    "        elif col in ['has_r', 'different_r', 'dist1', 'dist2', 'card1', 'card2', 'card3', 'card5', 'TransactionAmt']:\n",
    "            output.append(True)\n",
    "        elif col[0:2]=='is':\n",
    "            output.append(True)\n",
    "        else:\n",
    "            output.append(False)\n",
    "    return(output)"
   ]
  },
  {
   "cell_type": "code",
   "execution_count": 10,
   "metadata": {},
   "outputs": [],
   "source": [
    "cols = df.columns[colSelect(df.columns)]"
   ]
  },
  {
   "cell_type": "code",
   "execution_count": 11,
   "metadata": {},
   "outputs": [],
   "source": [
    "from xgboost import XGBClassifier"
   ]
  },
  {
   "cell_type": "code",
   "execution_count": 37,
   "metadata": {},
   "outputs": [],
   "source": [
    "xgb1 = XGBClassifier(n_estimators=350, max_depth=8, n_jobs=4, subsample=.9, colsample_bytree=.7, reg_alpha=.2, gamma=5, reg_lambda=1.2)"
   ]
  },
  {
   "cell_type": "code",
   "execution_count": 38,
   "metadata": {},
   "outputs": [
    {
     "data": {
      "text/plain": [
       "XGBClassifier(base_score=0.5, booster='gbtree', colsample_bylevel=1,\n",
       "       colsample_bynode=1, colsample_bytree=0.7, gamma=5,\n",
       "       learning_rate=0.1, max_delta_step=0, max_depth=8,\n",
       "       min_child_weight=1, missing=None, n_estimators=350, n_jobs=4,\n",
       "       nthread=None, objective='binary:logistic', random_state=0,\n",
       "       reg_alpha=0.2, reg_lambda=1.2, scale_pos_weight=1, seed=None,\n",
       "       silent=None, subsample=0.9, verbosity=1)"
      ]
     },
     "execution_count": 38,
     "metadata": {},
     "output_type": "execute_result"
    }
   ],
   "source": [
    "xgb1.fit(df[cols], df['isFraud'])"
   ]
  },
  {
   "cell_type": "code",
   "execution_count": 39,
   "metadata": {},
   "outputs": [],
   "source": [
    "df['preds'] = xgb1.predict_proba(df[cols])[:, 1]"
   ]
  },
  {
   "cell_type": "code",
   "execution_count": 40,
   "metadata": {},
   "outputs": [],
   "source": [
    "from sklearn.metrics import auc, roc_curve"
   ]
  },
  {
   "cell_type": "code",
   "execution_count": 41,
   "metadata": {},
   "outputs": [],
   "source": [
    "fpr, tpr, thresholds= roc_curve(df['isFraud'], df['preds'])"
   ]
  },
  {
   "cell_type": "code",
   "execution_count": 42,
   "metadata": {},
   "outputs": [],
   "source": [
    "import matplotlib.pyplot as plt\n",
    "%matplotlib inline"
   ]
  },
  {
   "cell_type": "code",
   "execution_count": 43,
   "metadata": {},
   "outputs": [
    {
     "data": {
      "text/plain": [
       "[<matplotlib.lines.Line2D at 0x1db12b2eb8>]"
      ]
     },
     "execution_count": 43,
     "metadata": {},
     "output_type": "execute_result"
    },
    {
     "data": {
      "image/png": "[encoded data removed]",
      "text/plain": [
       "<Figure size 432x288 with 1 Axes>"
      ]
     },
     "metadata": {},
     "output_type": "display_data"
    }
   ],
   "source": [
    "plt.plot(fpr, tpr)"
   ]
  },
  {
   "cell_type": "code",
   "execution_count": 44,
   "metadata": {},
   "outputs": [
    {
     "data": {
      "text/plain": [
       "0.9702069314892472"
      ]
     },
     "execution_count": 44,
     "metadata": {},
     "output_type": "execute_result"
    }
   ],
   "source": [
    "auc(fpr, tpr)"
   ]
  },
  {
   "cell_type": "code",
   "execution_count": 45,
   "metadata": {},
   "outputs": [],
   "source": [
    "test = pd.read_csv('test_transaction.csv')"
   ]
  },
  {
   "cell_type": "code",
   "execution_count": 46,
   "metadata": {},
   "outputs": [],
   "source": [
    "test_id = pd.read_csv('test_identity.csv')"
   ]
  },
  {
   "cell_type": "code",
   "execution_count": 47,
   "metadata": {},
   "outputs": [],
   "source": [
    "test = pd.merge(test, test_id, how='left', on='TransactionID')"
   ]
  },
  {
   "cell_type": "code",
   "execution_count": 48,
   "metadata": {},
   "outputs": [],
   "source": [
    "#Dealing with NA\n",
    "test.fillna(0, inplace=True)\n",
    "#Variable Creation\n",
    "test['has_r'] = (pd.notna(test['R_emaildomain'])).astype(int)\n",
    "test['different_r'] = (test['has_r']) * (test.P_emaildomain == test.R_emaildomain).astype(int)\n",
    "test['is_discover'] = (test.card4=='discover').astype(int)\n",
    "test['is_credit'] = (test.card6=='credit').astype(int)\n",
    "test['is_sketchy_addr2'] = (test.addr2.isin([0,60,96]))\n",
    "test['is_na_M1'] = (test['M1']==0).astype(int)\n",
    "test['is_na_M2'] = (test['M2']==0).astype(int)\n",
    "test['is_na_M3'] = (test['M3']==0).astype(int)\n",
    "test['is_na_M5'] = (test['M5']==0).astype(int)\n",
    "test['is_na_M6'] = (test['M6']==0).astype(int)\n",
    "test['is_na_M7'] = (test['M7']==0).astype(int)\n",
    "test['is_na_M8'] = (test['M8']==0).astype(int)\n",
    "test['is_na_M9'] = (test['M9']==0).astype(int)\n",
    "test['is_big_NA'] = test['is_na_M1']*test['is_na_M2']*test['is_na_M3']*test['is_na_M5']*test['is_na_M6']*test['is_na_M7']*test['is_na_M8']*test['is_na_M9']\n",
    "test['is_C'] = (test.ProductCD=='C').astype(int)\n",
    "test['is_S'] = (test.ProductCD=='S').astype(int)\n",
    "test['is_H'] = (test.ProductCD=='H').astype(int)\n",
    "test['is_mobile'] = (test.DeviceType=='mobile').astype(int)\n",
    "test['is_sketchy_device'] = (test.DeviceInfo.isin(sketchy_devices)).astype(int)\n",
    "test['is_sketchy_browser'] = (test.id_31.isin(sketchy_browser)).astype(int)\n",
    "test['is_protonmail'] = (test.P_emaildomain=='protonmail.com').astype(int)\n",
    "test['is_elsewise_sketchy_email'] = (test.P_emaildomain.isin(['mail.com', 'outlook.es', 'aim.com', 'outlook.com']))\n",
    "test['is_match'] = (test.id_34=='match_status:1').astype(int)\n",
    "test['is_M4M2'] = (test['M4']=='M2').astype(int)\n",
    "test['is_M3'] = (test['M3']=='T').astype(int)\n",
    "test['is_M2'] = (test['M2']=='T').astype(int)\n",
    "test['is_M9'] = (test['M9']=='T').astype(int)\n",
    "test['is_no_info'] = (test.DeviceType==0).astype(int)\n"
   ]
  },
  {
   "cell_type": "code",
   "execution_count": 49,
   "metadata": {},
   "outputs": [],
   "source": [
    "test['preds'] = xgb1.predict_proba(test[cols])[:, 1]"
   ]
  },
  {
   "cell_type": "code",
   "execution_count": 50,
   "metadata": {},
   "outputs": [],
   "source": [
    "submission_df = pd.DataFrame({'TransactionID':test['TransactionID'], 'isFraud': test['preds']})"
   ]
  },
  {
   "cell_type": "code",
   "execution_count": 51,
   "metadata": {},
   "outputs": [],
   "source": [
    "submission_df.to_csv('submission_4.csv', index=False)"
   ]
  },
  {
   "cell_type": "code",
   "execution_count": null,
   "metadata": {},
   "outputs": [],
   "source": []
  }
 ],
 "metadata": {
  "kernelspec": {
   "display_name": "Python 3",
   "language": "python",
   "name": "python3"
  },
  "language_info": {
   "codemirror_mode": {
    "name": "ipython",
    "version": 3
   },
   "file_extension": ".py",
   "mimetype": "text/x-python",
   "name": "python",
   "nbconvert_exporter": "python",
   "pygments_lexer": "ipython3",
   "version": "3.6.5"
  }
 },
 "nbformat": 4,
 "nbformat_minor": 2
}
